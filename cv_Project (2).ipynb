{
  "cells": [
    {
      "cell_type": "code",
      "execution_count": 1,
      "metadata": {
        "id": "WMipqt52AXJY",
        "colab": {
          "base_uri": "https://localhost:8080/"
        },
        "outputId": "f0dacbe1-8195-48bf-8cb6-f3cc009cae0b"
      },
      "outputs": [
        {
          "output_type": "stream",
          "name": "stdout",
          "text": [
            "Collecting gradio\n",
            "  Downloading gradio-5.29.0-py3-none-any.whl.metadata (16 kB)\n",
            "Collecting aiofiles<25.0,>=22.0 (from gradio)\n",
            "  Downloading aiofiles-24.1.0-py3-none-any.whl.metadata (10 kB)\n",
            "Requirement already satisfied: anyio<5.0,>=3.0 in /usr/local/lib/python3.11/dist-packages (from gradio) (4.9.0)\n",
            "Collecting fastapi<1.0,>=0.115.2 (from gradio)\n",
            "  Downloading fastapi-0.115.12-py3-none-any.whl.metadata (27 kB)\n",
            "Collecting ffmpy (from gradio)\n",
            "  Downloading ffmpy-0.5.0-py3-none-any.whl.metadata (3.0 kB)\n",
            "Collecting gradio-client==1.10.0 (from gradio)\n",
            "  Downloading gradio_client-1.10.0-py3-none-any.whl.metadata (7.1 kB)\n",
            "Collecting groovy~=0.1 (from gradio)\n",
            "  Downloading groovy-0.1.2-py3-none-any.whl.metadata (6.1 kB)\n",
            "Requirement already satisfied: httpx>=0.24.1 in /usr/local/lib/python3.11/dist-packages (from gradio) (0.28.1)\n",
            "Requirement already satisfied: huggingface-hub>=0.28.1 in /usr/local/lib/python3.11/dist-packages (from gradio) (0.30.2)\n",
            "Requirement already satisfied: jinja2<4.0 in /usr/local/lib/python3.11/dist-packages (from gradio) (3.1.6)\n",
            "Requirement already satisfied: markupsafe<4.0,>=2.0 in /usr/local/lib/python3.11/dist-packages (from gradio) (3.0.2)\n",
            "Requirement already satisfied: numpy<3.0,>=1.0 in /usr/local/lib/python3.11/dist-packages (from gradio) (2.0.2)\n",
            "Requirement already satisfied: orjson~=3.0 in /usr/local/lib/python3.11/dist-packages (from gradio) (3.10.17)\n",
            "Requirement already satisfied: packaging in /usr/local/lib/python3.11/dist-packages (from gradio) (24.2)\n",
            "Requirement already satisfied: pandas<3.0,>=1.0 in /usr/local/lib/python3.11/dist-packages (from gradio) (2.2.2)\n",
            "Requirement already satisfied: pillow<12.0,>=8.0 in /usr/local/lib/python3.11/dist-packages (from gradio) (11.2.1)\n",
            "Requirement already satisfied: pydantic<2.12,>=2.0 in /usr/local/lib/python3.11/dist-packages (from gradio) (2.11.3)\n",
            "Collecting pydub (from gradio)\n",
            "  Downloading pydub-0.25.1-py2.py3-none-any.whl.metadata (1.4 kB)\n",
            "Collecting python-multipart>=0.0.18 (from gradio)\n",
            "  Downloading python_multipart-0.0.20-py3-none-any.whl.metadata (1.8 kB)\n",
            "Requirement already satisfied: pyyaml<7.0,>=5.0 in /usr/local/lib/python3.11/dist-packages (from gradio) (6.0.2)\n",
            "Collecting ruff>=0.9.3 (from gradio)\n",
            "  Downloading ruff-0.11.8-py3-none-manylinux_2_17_x86_64.manylinux2014_x86_64.whl.metadata (25 kB)\n",
            "Collecting safehttpx<0.2.0,>=0.1.6 (from gradio)\n",
            "  Downloading safehttpx-0.1.6-py3-none-any.whl.metadata (4.2 kB)\n",
            "Collecting semantic-version~=2.0 (from gradio)\n",
            "  Downloading semantic_version-2.10.0-py2.py3-none-any.whl.metadata (9.7 kB)\n",
            "Collecting starlette<1.0,>=0.40.0 (from gradio)\n",
            "  Downloading starlette-0.46.2-py3-none-any.whl.metadata (6.2 kB)\n",
            "Collecting tomlkit<0.14.0,>=0.12.0 (from gradio)\n",
            "  Downloading tomlkit-0.13.2-py3-none-any.whl.metadata (2.7 kB)\n",
            "Requirement already satisfied: typer<1.0,>=0.12 in /usr/local/lib/python3.11/dist-packages (from gradio) (0.15.3)\n",
            "Requirement already satisfied: typing-extensions~=4.0 in /usr/local/lib/python3.11/dist-packages (from gradio) (4.13.2)\n",
            "Collecting uvicorn>=0.14.0 (from gradio)\n",
            "  Downloading uvicorn-0.34.2-py3-none-any.whl.metadata (6.5 kB)\n",
            "Requirement already satisfied: fsspec in /usr/local/lib/python3.11/dist-packages (from gradio-client==1.10.0->gradio) (2025.3.2)\n",
            "Requirement already satisfied: websockets<16.0,>=10.0 in /usr/local/lib/python3.11/dist-packages (from gradio-client==1.10.0->gradio) (15.0.1)\n",
            "Requirement already satisfied: idna>=2.8 in /usr/local/lib/python3.11/dist-packages (from anyio<5.0,>=3.0->gradio) (3.10)\n",
            "Requirement already satisfied: sniffio>=1.1 in /usr/local/lib/python3.11/dist-packages (from anyio<5.0,>=3.0->gradio) (1.3.1)\n",
            "Requirement already satisfied: certifi in /usr/local/lib/python3.11/dist-packages (from httpx>=0.24.1->gradio) (2025.4.26)\n",
            "Requirement already satisfied: httpcore==1.* in /usr/local/lib/python3.11/dist-packages (from httpx>=0.24.1->gradio) (1.0.9)\n",
            "Requirement already satisfied: h11>=0.16 in /usr/local/lib/python3.11/dist-packages (from httpcore==1.*->httpx>=0.24.1->gradio) (0.16.0)\n",
            "Requirement already satisfied: filelock in /usr/local/lib/python3.11/dist-packages (from huggingface-hub>=0.28.1->gradio) (3.18.0)\n",
            "Requirement already satisfied: requests in /usr/local/lib/python3.11/dist-packages (from huggingface-hub>=0.28.1->gradio) (2.32.3)\n",
            "Requirement already satisfied: tqdm>=4.42.1 in /usr/local/lib/python3.11/dist-packages (from huggingface-hub>=0.28.1->gradio) (4.67.1)\n",
            "Requirement already satisfied: python-dateutil>=2.8.2 in /usr/local/lib/python3.11/dist-packages (from pandas<3.0,>=1.0->gradio) (2.9.0.post0)\n",
            "Requirement already satisfied: pytz>=2020.1 in /usr/local/lib/python3.11/dist-packages (from pandas<3.0,>=1.0->gradio) (2025.2)\n",
            "Requirement already satisfied: tzdata>=2022.7 in /usr/local/lib/python3.11/dist-packages (from pandas<3.0,>=1.0->gradio) (2025.2)\n",
            "Requirement already satisfied: annotated-types>=0.6.0 in /usr/local/lib/python3.11/dist-packages (from pydantic<2.12,>=2.0->gradio) (0.7.0)\n",
            "Requirement already satisfied: pydantic-core==2.33.1 in /usr/local/lib/python3.11/dist-packages (from pydantic<2.12,>=2.0->gradio) (2.33.1)\n",
            "Requirement already satisfied: typing-inspection>=0.4.0 in /usr/local/lib/python3.11/dist-packages (from pydantic<2.12,>=2.0->gradio) (0.4.0)\n",
            "Requirement already satisfied: click>=8.0.0 in /usr/local/lib/python3.11/dist-packages (from typer<1.0,>=0.12->gradio) (8.1.8)\n",
            "Requirement already satisfied: shellingham>=1.3.0 in /usr/local/lib/python3.11/dist-packages (from typer<1.0,>=0.12->gradio) (1.5.4)\n",
            "Requirement already satisfied: rich>=10.11.0 in /usr/local/lib/python3.11/dist-packages (from typer<1.0,>=0.12->gradio) (13.9.4)\n",
            "Requirement already satisfied: six>=1.5 in /usr/local/lib/python3.11/dist-packages (from python-dateutil>=2.8.2->pandas<3.0,>=1.0->gradio) (1.17.0)\n",
            "Requirement already satisfied: markdown-it-py>=2.2.0 in /usr/local/lib/python3.11/dist-packages (from rich>=10.11.0->typer<1.0,>=0.12->gradio) (3.0.0)\n",
            "Requirement already satisfied: pygments<3.0.0,>=2.13.0 in /usr/local/lib/python3.11/dist-packages (from rich>=10.11.0->typer<1.0,>=0.12->gradio) (2.19.1)\n",
            "Requirement already satisfied: charset-normalizer<4,>=2 in /usr/local/lib/python3.11/dist-packages (from requests->huggingface-hub>=0.28.1->gradio) (3.4.1)\n",
            "Requirement already satisfied: urllib3<3,>=1.21.1 in /usr/local/lib/python3.11/dist-packages (from requests->huggingface-hub>=0.28.1->gradio) (2.4.0)\n",
            "Requirement already satisfied: mdurl~=0.1 in /usr/local/lib/python3.11/dist-packages (from markdown-it-py>=2.2.0->rich>=10.11.0->typer<1.0,>=0.12->gradio) (0.1.2)\n",
            "Downloading gradio-5.29.0-py3-none-any.whl (54.1 MB)\n",
            "\u001b[2K   \u001b[90m━━━━━━━━━━━━━━━━━━━━━━━━━━━━━━━━━━━━━━━━\u001b[0m \u001b[32m54.1/54.1 MB\u001b[0m \u001b[31m39.4 MB/s\u001b[0m eta \u001b[36m0:00:00\u001b[0m\n",
            "\u001b[?25hDownloading gradio_client-1.10.0-py3-none-any.whl (322 kB)\n",
            "\u001b[2K   \u001b[90m━━━━━━━━━━━━━━━━━━━━━━━━━━━━━━━━━━━━━━━━\u001b[0m \u001b[32m322.9/322.9 kB\u001b[0m \u001b[31m24.6 MB/s\u001b[0m eta \u001b[36m0:00:00\u001b[0m\n",
            "\u001b[?25hDownloading aiofiles-24.1.0-py3-none-any.whl (15 kB)\n",
            "Downloading fastapi-0.115.12-py3-none-any.whl (95 kB)\n",
            "\u001b[2K   \u001b[90m━━━━━━━━━━━━━━━━━━━━━━━━━━━━━━━━━━━━━━━━\u001b[0m \u001b[32m95.2/95.2 kB\u001b[0m \u001b[31m9.3 MB/s\u001b[0m eta \u001b[36m0:00:00\u001b[0m\n",
            "\u001b[?25hDownloading groovy-0.1.2-py3-none-any.whl (14 kB)\n",
            "Downloading python_multipart-0.0.20-py3-none-any.whl (24 kB)\n",
            "Downloading ruff-0.11.8-py3-none-manylinux_2_17_x86_64.manylinux2014_x86_64.whl (11.5 MB)\n",
            "\u001b[2K   \u001b[90m━━━━━━━━━━━━━━━━━━━━━━━━━━━━━━━━━━━━━━━━\u001b[0m \u001b[32m11.5/11.5 MB\u001b[0m \u001b[31m121.8 MB/s\u001b[0m eta \u001b[36m0:00:00\u001b[0m\n",
            "\u001b[?25hDownloading safehttpx-0.1.6-py3-none-any.whl (8.7 kB)\n",
            "Downloading semantic_version-2.10.0-py2.py3-none-any.whl (15 kB)\n",
            "Downloading starlette-0.46.2-py3-none-any.whl (72 kB)\n",
            "\u001b[2K   \u001b[90m━━━━━━━━━━━━━━━━━━━━━━━━━━━━━━━━━━━━━━━━\u001b[0m \u001b[32m72.0/72.0 kB\u001b[0m \u001b[31m7.1 MB/s\u001b[0m eta \u001b[36m0:00:00\u001b[0m\n",
            "\u001b[?25hDownloading tomlkit-0.13.2-py3-none-any.whl (37 kB)\n",
            "Downloading uvicorn-0.34.2-py3-none-any.whl (62 kB)\n",
            "\u001b[2K   \u001b[90m━━━━━━━━━━━━━━━━━━━━━━━━━━━━━━━━━━━━━━━━\u001b[0m \u001b[32m62.5/62.5 kB\u001b[0m \u001b[31m5.8 MB/s\u001b[0m eta \u001b[36m0:00:00\u001b[0m\n",
            "\u001b[?25hDownloading ffmpy-0.5.0-py3-none-any.whl (6.0 kB)\n",
            "Downloading pydub-0.25.1-py2.py3-none-any.whl (32 kB)\n",
            "Installing collected packages: pydub, uvicorn, tomlkit, semantic-version, ruff, python-multipart, groovy, ffmpy, aiofiles, starlette, safehttpx, gradio-client, fastapi, gradio\n",
            "Successfully installed aiofiles-24.1.0 fastapi-0.115.12 ffmpy-0.5.0 gradio-5.29.0 gradio-client-1.10.0 groovy-0.1.2 pydub-0.25.1 python-multipart-0.0.20 ruff-0.11.8 safehttpx-0.1.6 semantic-version-2.10.0 starlette-0.46.2 tomlkit-0.13.2 uvicorn-0.34.2\n",
            "Requirement already satisfied: tensorflow in /usr/local/lib/python3.11/dist-packages (2.18.0)\n",
            "Requirement already satisfied: absl-py>=1.0.0 in /usr/local/lib/python3.11/dist-packages (from tensorflow) (1.4.0)\n",
            "Requirement already satisfied: astunparse>=1.6.0 in /usr/local/lib/python3.11/dist-packages (from tensorflow) (1.6.3)\n",
            "Requirement already satisfied: flatbuffers>=24.3.25 in /usr/local/lib/python3.11/dist-packages (from tensorflow) (25.2.10)\n",
            "Requirement already satisfied: gast!=0.5.0,!=0.5.1,!=0.5.2,>=0.2.1 in /usr/local/lib/python3.11/dist-packages (from tensorflow) (0.6.0)\n",
            "Requirement already satisfied: google-pasta>=0.1.1 in /usr/local/lib/python3.11/dist-packages (from tensorflow) (0.2.0)\n",
            "Requirement already satisfied: libclang>=13.0.0 in /usr/local/lib/python3.11/dist-packages (from tensorflow) (18.1.1)\n",
            "Requirement already satisfied: opt-einsum>=2.3.2 in /usr/local/lib/python3.11/dist-packages (from tensorflow) (3.4.0)\n",
            "Requirement already satisfied: packaging in /usr/local/lib/python3.11/dist-packages (from tensorflow) (24.2)\n",
            "Requirement already satisfied: protobuf!=4.21.0,!=4.21.1,!=4.21.2,!=4.21.3,!=4.21.4,!=4.21.5,<6.0.0dev,>=3.20.3 in /usr/local/lib/python3.11/dist-packages (from tensorflow) (5.29.4)\n",
            "Requirement already satisfied: requests<3,>=2.21.0 in /usr/local/lib/python3.11/dist-packages (from tensorflow) (2.32.3)\n",
            "Requirement already satisfied: setuptools in /usr/local/lib/python3.11/dist-packages (from tensorflow) (75.2.0)\n",
            "Requirement already satisfied: six>=1.12.0 in /usr/local/lib/python3.11/dist-packages (from tensorflow) (1.17.0)\n",
            "Requirement already satisfied: termcolor>=1.1.0 in /usr/local/lib/python3.11/dist-packages (from tensorflow) (3.0.1)\n",
            "Requirement already satisfied: typing-extensions>=3.6.6 in /usr/local/lib/python3.11/dist-packages (from tensorflow) (4.13.2)\n",
            "Requirement already satisfied: wrapt>=1.11.0 in /usr/local/lib/python3.11/dist-packages (from tensorflow) (1.17.2)\n",
            "Requirement already satisfied: grpcio<2.0,>=1.24.3 in /usr/local/lib/python3.11/dist-packages (from tensorflow) (1.71.0)\n",
            "Requirement already satisfied: tensorboard<2.19,>=2.18 in /usr/local/lib/python3.11/dist-packages (from tensorflow) (2.18.0)\n",
            "Requirement already satisfied: keras>=3.5.0 in /usr/local/lib/python3.11/dist-packages (from tensorflow) (3.8.0)\n",
            "Requirement already satisfied: numpy<2.1.0,>=1.26.0 in /usr/local/lib/python3.11/dist-packages (from tensorflow) (2.0.2)\n",
            "Requirement already satisfied: h5py>=3.11.0 in /usr/local/lib/python3.11/dist-packages (from tensorflow) (3.13.0)\n",
            "Requirement already satisfied: ml-dtypes<0.5.0,>=0.4.0 in /usr/local/lib/python3.11/dist-packages (from tensorflow) (0.4.1)\n",
            "Requirement already satisfied: tensorflow-io-gcs-filesystem>=0.23.1 in /usr/local/lib/python3.11/dist-packages (from tensorflow) (0.37.1)\n",
            "Requirement already satisfied: wheel<1.0,>=0.23.0 in /usr/local/lib/python3.11/dist-packages (from astunparse>=1.6.0->tensorflow) (0.45.1)\n",
            "Requirement already satisfied: rich in /usr/local/lib/python3.11/dist-packages (from keras>=3.5.0->tensorflow) (13.9.4)\n",
            "Requirement already satisfied: namex in /usr/local/lib/python3.11/dist-packages (from keras>=3.5.0->tensorflow) (0.0.9)\n",
            "Requirement already satisfied: optree in /usr/local/lib/python3.11/dist-packages (from keras>=3.5.0->tensorflow) (0.15.0)\n",
            "Requirement already satisfied: charset-normalizer<4,>=2 in /usr/local/lib/python3.11/dist-packages (from requests<3,>=2.21.0->tensorflow) (3.4.1)\n",
            "Requirement already satisfied: idna<4,>=2.5 in /usr/local/lib/python3.11/dist-packages (from requests<3,>=2.21.0->tensorflow) (3.10)\n",
            "Requirement already satisfied: urllib3<3,>=1.21.1 in /usr/local/lib/python3.11/dist-packages (from requests<3,>=2.21.0->tensorflow) (2.4.0)\n",
            "Requirement already satisfied: certifi>=2017.4.17 in /usr/local/lib/python3.11/dist-packages (from requests<3,>=2.21.0->tensorflow) (2025.4.26)\n",
            "Requirement already satisfied: markdown>=2.6.8 in /usr/local/lib/python3.11/dist-packages (from tensorboard<2.19,>=2.18->tensorflow) (3.8)\n",
            "Requirement already satisfied: tensorboard-data-server<0.8.0,>=0.7.0 in /usr/local/lib/python3.11/dist-packages (from tensorboard<2.19,>=2.18->tensorflow) (0.7.2)\n",
            "Requirement already satisfied: werkzeug>=1.0.1 in /usr/local/lib/python3.11/dist-packages (from tensorboard<2.19,>=2.18->tensorflow) (3.1.3)\n",
            "Requirement already satisfied: MarkupSafe>=2.1.1 in /usr/local/lib/python3.11/dist-packages (from werkzeug>=1.0.1->tensorboard<2.19,>=2.18->tensorflow) (3.0.2)\n",
            "Requirement already satisfied: markdown-it-py>=2.2.0 in /usr/local/lib/python3.11/dist-packages (from rich->keras>=3.5.0->tensorflow) (3.0.0)\n",
            "Requirement already satisfied: pygments<3.0.0,>=2.13.0 in /usr/local/lib/python3.11/dist-packages (from rich->keras>=3.5.0->tensorflow) (2.19.1)\n",
            "Requirement already satisfied: mdurl~=0.1 in /usr/local/lib/python3.11/dist-packages (from markdown-it-py>=2.2.0->rich->keras>=3.5.0->tensorflow) (0.1.2)\n"
          ]
        }
      ],
      "source": [
        "!pip install gradio\n",
        "!pip install tensorflow"
      ]
    },
    {
      "cell_type": "markdown",
      "metadata": {
        "id": "kSgdGExoB91n"
      },
      "source": [
        "##import libraries"
      ]
    },
    {
      "cell_type": "code",
      "execution_count": 2,
      "metadata": {
        "id": "CMJEznJzxBzF"
      },
      "outputs": [],
      "source": [
        "from skimage.feature import hog\n",
        "from skimage import color\n",
        "import numpy as np\n",
        "from tqdm import tqdm\n",
        "import seaborn as sns\n",
        "import os\n",
        "import cv2\n",
        "import torch\n",
        "import torchvision.transforms as transforms\n",
        "import matplotlib.pyplot as plt\n",
        "import torch\n",
        "import torch.nn as nn\n",
        "import torch.nn.functional as F\n",
        "from torch.utils.data import Dataset, DataLoader\n",
        "from sklearn.preprocessing import LabelEncoder\n",
        "from sklearn.model_selection import train_test_split\n",
        "import gradio as gr\n",
        "from tensorflow.keras.models import Sequential, Model\n",
        "from tensorflow.keras.layers import Dense, Dropout, Flatten, Conv2D, MaxPooling2D, Input\n",
        "from tensorflow.keras.optimizers import Adam\n",
        "from tensorflow.keras.utils import to_categorical\n",
        "from tensorflow.keras.preprocessing.image import ImageDataGenerator, load_img, img_to_array\n",
        "from sklearn.metrics import classification_report, confusion_matrix, accuracy_score, precision_score, recall_score, f1_score\n",
        "import tensorflow as tf\n",
        "from PIL import Image, ImageDraw, ImageFont\n",
        "from tensorflow.keras.models import load_model\n",
        "import random"
      ]
    },
    {
      "cell_type": "markdown",
      "metadata": {
        "id": "afpyAoXUCFJa"
      },
      "source": [
        "##Download dataset"
      ]
    },
    {
      "cell_type": "code",
      "execution_count": null,
      "metadata": {
        "colab": {
          "background_save": true
        },
        "id": "I_M7CD0Z8ArV",
        "outputId": "9f06062a-72e8-4ed9-fac8-7f5a3acab844"
      },
      "outputs": [
        {
          "name": "stdout",
          "output_type": "stream",
          "text": [
            "Dataset URL: https://www.kaggle.com/datasets/alessiocorrado99/animals10\n",
            "License(s): GPL-2.0\n"
          ]
        }
      ],
      "source": [
        "# 1. نسخ kaggle.json إلى المسار الصحيح\n",
        "!mkdir -p ~/.kaggle\n",
        "!cp /content/kaggle.json ~/.kaggle/\n",
        "!chmod 600 ~/.kaggle/kaggle.json\n",
        "\n",
        "# 2. تثبيت kaggle لو مش مثبت\n",
        "!pip install -q kaggle\n",
        "\n",
        "# 3. تحميل الداتا\n",
        "!kaggle datasets download -d alessiocorrado99/animals10\n",
        "\n",
        "# 4. فك الضغط\n",
        "!unzip -q animals10.zip -d animals10\n"
      ]
    },
    {
      "cell_type": "markdown",
      "metadata": {
        "id": "YfVTiy9ICLvt"
      },
      "source": [
        "##Detect Unbalancing"
      ]
    },
    {
      "cell_type": "code",
      "execution_count": null,
      "metadata": {
        "colab": {
          "background_save": true
        },
        "id": "yCFlfSIcYQ0P",
        "outputId": "25ad0eeb-f4e9-412b-db6b-2770164b4ee6"
      },
      "outputs": [
        {
          "data": {
            "image/png": "[encoded data removed]",
            "text/plain": [
              "<Figure size 1200x600 with 1 Axes>"
            ]
          },
          "metadata": {},
          "output_type": "display_data"
        },
        {
          "name": "stdout",
          "output_type": "stream",
          "text": [
            "📊 توزيع الفئات:\n",
            "cavallo: 2623 صورة\n",
            "pecora: 1820 صورة\n",
            "gatto: 1668 صورة\n",
            "cane: 4863 صورة\n",
            "gallina: 3098 صورة\n",
            "mucca: 1866 صورة\n",
            "farfalla: 2112 صورة\n",
            "scoiattolo: 1862 صورة\n",
            "ragno: 4821 صورة\n",
            "elefante: 1446 صورة\n"
          ]
        }
      ],
      "source": [
        "# مسار الداتا\n",
        "data_dir = '/content/animals10/raw-img'\n",
        "\n",
        "# احسب عدد الصور في كل فئة\n",
        "class_counts = {}\n",
        "for class_name in os.listdir(data_dir):\n",
        "    class_path = os.path.join(data_dir, class_name)\n",
        "    if os.path.isdir(class_path):\n",
        "        class_counts[class_name] = len(os.listdir(class_path))\n",
        "\n",
        "# عرض النتائج\n",
        "plt.figure(figsize=(12,6))\n",
        "plt.bar(class_counts.keys(), class_counts.values(), color='teal')\n",
        "plt.xticks(rotation=45)\n",
        "plt.title(\"Number of Images per Class\")\n",
        "plt.ylabel(\"Image Count\")\n",
        "plt.xlabel(\"Class Name\")\n",
        "plt.grid(axis='y')\n",
        "plt.show()\n",
        "\n",
        "print(\"📊 توزيع الفئات:\")\n",
        "for k, v in class_counts.items():\n",
        "    print(f\"{k}: {v} صورة\")\n"
      ]
    },
    {
      "cell_type": "code",
      "execution_count": null,
      "metadata": {
        "colab": {
          "background_save": true
        },
        "id": "mpNgpDdwR9ih",
        "outputId": "dbf52653-4ad0-4f94-91fd-27e848204bc2"
      },
      "outputs": [
        {
          "name": "stdout",
          "output_type": "stream",
          "text": [
            "⏳ Augmenting 'cavallo' from 2623 to 4863 images...\n"
          ]
        },
        {
          "name": "stderr",
          "output_type": "stream",
          "text": [
            "  0%|          | 1/2623 [00:35<25:40:36, 35.25s/it]\n"
          ]
        },
        {
          "name": "stdout",
          "output_type": "stream",
          "text": [
            "⏳ Augmenting 'pecora' from 1820 to 4863 images...\n"
          ]
        },
        {
          "name": "stderr",
          "output_type": "stream",
          "text": [
            "  0%|          | 1/1820 [00:51<26:09:48, 51.78s/it]\n"
          ]
        },
        {
          "name": "stdout",
          "output_type": "stream",
          "text": [
            "⏳ Augmenting 'gatto' from 1668 to 4863 images...\n"
          ]
        },
        {
          "name": "stderr",
          "output_type": "stream",
          "text": [
            "  0%|          | 1/1668 [00:52<24:26:54, 52.80s/it]\n"
          ]
        },
        {
          "name": "stdout",
          "output_type": "stream",
          "text": [
            "⏳ Augmenting 'gallina' from 3098 to 4863 images...\n"
          ]
        },
        {
          "name": "stderr",
          "output_type": "stream",
          "text": [
            "  0%|          | 1/3098 [00:27<23:24:53, 27.22s/it]\n"
          ]
        },
        {
          "name": "stdout",
          "output_type": "stream",
          "text": [
            "⏳ Augmenting 'mucca' from 1866 to 4863 images...\n"
          ]
        },
        {
          "name": "stderr",
          "output_type": "stream",
          "text": [
            "  0%|          | 1/1866 [00:48<24:54:51, 48.09s/it]\n"
          ]
        },
        {
          "name": "stdout",
          "output_type": "stream",
          "text": [
            "⏳ Augmenting 'farfalla' from 2112 to 4863 images...\n"
          ]
        },
        {
          "name": "stderr",
          "output_type": "stream",
          "text": [
            "  0%|          | 1/2112 [00:44<25:50:47, 44.08s/it]\n"
          ]
        },
        {
          "name": "stdout",
          "output_type": "stream",
          "text": [
            "⏳ Augmenting 'scoiattolo' from 1862 to 4863 images...\n"
          ]
        },
        {
          "name": "stderr",
          "output_type": "stream",
          "text": [
            "  0%|          | 1/1862 [00:48<25:07:36, 48.61s/it]\n"
          ]
        },
        {
          "name": "stdout",
          "output_type": "stream",
          "text": [
            "⏳ Augmenting 'ragno' from 4821 to 4863 images...\n"
          ]
        },
        {
          "name": "stderr",
          "output_type": "stream",
          "text": [
            "  0%|          | 1/4821 [00:00<47:28,  1.69it/s]\n"
          ]
        },
        {
          "name": "stdout",
          "output_type": "stream",
          "text": [
            "⏳ Augmenting 'elefante' from 1446 to 4863 images...\n"
          ]
        },
        {
          "name": "stderr",
          "output_type": "stream",
          "text": [
            "  0%|          | 1/1446 [00:56<22:51:33, 56.95s/it]\n"
          ]
        }
      ],
      "source": [
        "import os\n",
        "import cv2\n",
        "import random\n",
        "from tqdm import tqdm\n",
        "from tensorflow.keras.preprocessing.image import ImageDataGenerator\n",
        "\n",
        "\n",
        "# إعداد Data Augmenter\n",
        "datagen = ImageDataGenerator(\n",
        "    rotation_range=20,\n",
        "    zoom_range=0.2,\n",
        "    brightness_range=(0.7, 1.3),\n",
        "    horizontal_flip=True,\n",
        "    fill_mode='nearest'\n",
        ")\n",
        "\n",
        "# الفئات اللى أقل من 4863 صورة\n",
        "target_dir = \"/content/animals10/raw-img\"\n",
        "min_target = 4863\n",
        "\n",
        "for class_name in os.listdir(target_dir):\n",
        "    class_path = os.path.join(target_dir, class_name)\n",
        "    if not os.path.isdir(class_path):\n",
        "        continue\n",
        "\n",
        "    images = os.listdir(class_path)\n",
        "    count = len(images)\n",
        "\n",
        "    if count >= min_target:\n",
        "        continue\n",
        "\n",
        "    print(f\"⏳ Augmenting '{class_name}' from {count} to {min_target} images...\")\n",
        "\n",
        "    for img_name in tqdm(images):\n",
        "        if len(os.listdir(class_path)) >= min_target:\n",
        "            break\n",
        "\n",
        "        img_path = os.path.join(class_path, img_name)\n",
        "        img = cv2.imread(img_path)\n",
        "        if img is None:\n",
        "            continue\n",
        "        img = cv2.cvtColor(img, cv2.COLOR_BGR2RGB)\n",
        "        img = cv2.resize(img, (224, 224))\n",
        "        img = img.reshape((1,) + img.shape)\n",
        "\n",
        "        # انتاج صور جديدة\n",
        "        for batch in datagen.flow(img, batch_size=1,\n",
        "                                  save_to_dir=class_path,\n",
        "                                  save_prefix='aug',\n",
        "                                  save_format='jpg'):\n",
        "            if len(os.listdir(class_path)) >= min_target:\n",
        "                break\n"
      ]
    },
    {
      "cell_type": "code",
      "execution_count": null,
      "metadata": {
        "colab": {
          "background_save": true
        },
        "id": "gNfv2MCiZftF",
        "outputId": "17cf4ff8-e8b7-4e7d-fb2e-6518a7b08aa3"
      },
      "outputs": [
        {
          "data": {
            "image/png": "[encoded data removed]",
            "text/plain": [
              "<Figure size 1200x600 with 1 Axes>"
            ]
          },
          "metadata": {},
          "output_type": "display_data"
        },
        {
          "name": "stdout",
          "output_type": "stream",
          "text": [
            "📊 توزيع الفئات:\n",
            "cavallo: 2623 صورة\n",
            "pecora: 1820 صورة\n",
            "gatto: 1668 صورة\n",
            "cane: 4863 صورة\n",
            "gallina: 3098 صورة\n",
            "mucca: 1866 صورة\n",
            "farfalla: 2112 صورة\n",
            "scoiattolo: 1862 صورة\n",
            "ragno: 4821 صورة\n",
            "elefante: 1446 صورة\n"
          ]
        }
      ],
      "source": [
        "# عرض النتائج\n",
        "plt.figure(figsize=(12,6))\n",
        "plt.bar(class_counts.keys(), class_counts.values(), color='teal')\n",
        "plt.xticks(rotation=45)\n",
        "plt.title(\"Number of Images per Class\")\n",
        "plt.ylabel(\"Image Count\")\n",
        "plt.xlabel(\"Class Name\")\n",
        "plt.grid(axis='y')\n",
        "plt.show()\n",
        "\n",
        "print(\"📊 توزيع الفئات:\")\n",
        "for k, v in class_counts.items():\n",
        "    print(f\"{k}: {v} صورة\")"
      ]
    },
    {
      "cell_type": "markdown",
      "metadata": {
        "id": "K26c9dnOCVhu"
      },
      "source": [
        "#first split\n",
        "\n",
        "1.  Translate clases *(italy -> english)*\n",
        "2.   split it in right classes\n",
        "\n"
      ]
    },
    {
      "cell_type": "code",
      "execution_count": null,
      "metadata": {
        "colab": {
          "background_save": true
        },
        "id": "PcZ7dfpobOR8",
        "outputId": "c91e96f2-8962-4ed7-e515-17762b3f11e9"
      },
      "outputs": [
        {
          "name": "stdout",
          "output_type": "stream",
          "text": [
            "تم تقسيم البيانات وترجمتها بنجاح!\n"
          ]
        }
      ],
      "source": [
        "import os\n",
        "import shutil\n",
        "import random\n",
        "\n",
        "# قاموس الترجمة بين الإيطالي والإنجليزي\n",
        "translate = {\n",
        "    \"cane\": \"dog\", \"cavallo\": \"horse\", \"elefante\": \"elephant\", \"farfalla\": \"butterfly\",\n",
        "    \"gallina\": \"chicken\", \"gatto\": \"cat\", \"mucca\": \"cow\", \"pecora\": \"sheep\",\n",
        "    \"scoiattolo\": \"squirrel\", \"dog\": \"cane\", \"cavallo\": \"horse\", \"elephant\": \"elefante\",\n",
        "    \"butterfly\": \"farfalla\", \"chicken\": \"gallina\", \"cat\": \"gatto\", \"cow\": \"mucca\",\n",
        "    \"spider\": \"ragno\", \"squirrel\": \"scoiattolo\"\n",
        "}\n",
        "\n",
        "# المسار الأساسي للبيانات\n",
        "base_dir = '/content/animals10/raw-img/'\n",
        "\n",
        "# المسارات الجديدة للـ Train, Val, Test\n",
        "train_dir = '/content/animals10/train/'\n",
        "val_dir = '/content/animals10/val/'\n",
        "test_dir = '/content/animals10/test/'\n",
        "\n",
        "\n",
        "os.makedirs(train_dir, exist_ok=True)\n",
        "os.makedirs(val_dir, exist_ok=True)\n",
        "os.makedirs(test_dir, exist_ok=True)\n",
        "\n",
        "for class_name in os.listdir(base_dir):\n",
        "    class_path = os.path.join(base_dir, class_name)\n",
        "\n",
        "    if os.path.isdir(class_path):  # إذا كان مجلدًا\n",
        "        # الترجمة\n",
        "        translated_class_name = translate.get(class_name, class_name)\n",
        "\n",
        "\n",
        "        os.makedirs(os.path.join(train_dir, translated_class_name), exist_ok=True)\n",
        "        os.makedirs(os.path.join(val_dir, translated_class_name), exist_ok=True)\n",
        "        os.makedirs(os.path.join(test_dir, translated_class_name), exist_ok=True)\n",
        "\n",
        "        # قائمة بكل الصور\n",
        "        image_files = os.listdir(class_path)\n",
        "        random.shuffle(image_files)\n",
        "\n",
        "        # تقسيم الصور: 80% للتدريب، 10% للتحقيق، 10% للاختبار\n",
        "        total_images = len(image_files)\n",
        "        train_count = int(total_images * 0.8)\n",
        "        val_count = int(total_images * 0.1)\n",
        "        test_count = total_images - train_count - val_count\n",
        "\n",
        "        train_images = image_files[:train_count]\n",
        "        val_images = image_files[train_count:train_count+val_count]\n",
        "        test_images = image_files[train_count+val_count:]\n",
        "\n",
        "        for img in train_images:\n",
        "            shutil.copy(os.path.join(class_path, img), os.path.join(train_dir, translated_class_name, img))\n",
        "\n",
        "        for img in val_images:\n",
        "            shutil.copy(os.path.join(class_path, img), os.path.join(val_dir, translated_class_name, img))\n",
        "\n",
        "        for img in test_images:\n",
        "            shutil.copy(os.path.join(class_path, img), os.path.join(test_dir, translated_class_name, img))\n",
        "\n",
        "print(\"تم تقسيم البيانات وترجمتها بنجاح!\")"
      ]
    },
    {
      "cell_type": "markdown",
      "metadata": {
        "id": "nM2dBI3hPOQq"
      },
      "source": [
        "Preprocessing"
      ]
    },
    {
      "cell_type": "code",
      "execution_count": null,
      "metadata": {
        "colab": {
          "background_save": true
        },
        "id": "yKyVYdlqO1HJ"
      },
      "outputs": [],
      "source": [
        "def custom_preprocessing(img):\n",
        "\n",
        "    # 2. BGR إلى RGB (ImageDataGenerator يتعامل مع RGB بالفعل غالبًا)\n",
        "    img = cv2.cvtColor(img, cv2.COLOR_BGR2RGB)\n",
        "\n",
        "    # 3. Normalize (ImageDataGenerator بيعمل rescale=1./255)\n",
        "    img = img / 255.0\n",
        "\n",
        "    # 4. Gaussian Blur\n",
        "    img = cv2.GaussianBlur(img, (5, 5), 0)\n",
        "\n",
        "    # 5. CLAHE\n",
        "    lab = cv2.cvtColor((img * 255).astype(np.uint8), cv2.COLOR_RGB2LAB)\n",
        "    l, a, b = cv2.split(lab)\n",
        "    clahe = cv2.createCLAHE(clipLimit=3.0)\n",
        "    cl = clahe.apply(l)\n",
        "    lab = cv2.merge((cl, a, b))\n",
        "    img = cv2.cvtColor(lab, cv2.COLOR_LAB2RGB)\n",
        "\n",
        "    # 6. Sharpening\n",
        "    sharpen_kernel = np.array([[0, -1, 0],\n",
        "                               [-1, 5, -1],\n",
        "                               [0, -1, 0]])\n",
        "    img = cv2.filter2D(img, -1, sharpen_kernel)\n",
        "\n",
        "    # 7. Random Flip\n",
        "    if random.random() > 0.5:\n",
        "        img = cv2.flip(img, 1)\n",
        "\n",
        "    # 8. Morphological Operation (Opening)\n",
        "    gray = cv2.cvtColor(img, cv2.COLOR_RGB2GRAY)\n",
        "    kernel = np.ones((3, 3), np.uint8)\n",
        "    morph = cv2.morphologyEx(gray, cv2.MORPH_OPEN, kernel)\n",
        "\n",
        "    return img"
      ]
    },
    {
      "cell_type": "code",
      "execution_count": null,
      "metadata": {
        "colab": {
          "background_save": true
        },
        "id": "rU4ZBbbfiKsm"
      },
      "outputs": [],
      "source": [
        "def apply_custom_preprocessing_to_folder(input_dir, output_dir):\n",
        "    if not os.path.exists(output_dir):\n",
        "        os.makedirs(output_dir)\n",
        "\n",
        "    for class_name in os.listdir(input_dir):\n",
        "        class_path = os.path.join(input_dir, class_name)\n",
        "        output_class_path = os.path.join(output_dir, class_name)\n",
        "\n",
        "        if not os.path.exists(output_class_path):\n",
        "            os.makedirs(output_class_path)\n",
        "\n",
        "        for img_name in tqdm(os.listdir(class_path), desc=f\"Preprocessing {class_name}\"):\n",
        "            img_path = os.path.join(class_path, img_name)\n",
        "            img = cv2.imread(img_path)\n",
        "\n",
        "            if img is None:\n",
        "                continue\n",
        "\n",
        "            img_preprocessed = custom_preprocessing(img)\n",
        "            img_bgr = cv2.cvtColor((img_preprocessed * 255).astype(np.uint8), cv2.COLOR_RGB2BGR)\n",
        "            cv2.imwrite(os.path.join(output_class_path, img_name), img_bgr)\n",
        "\n",
        "    print(\"✅ تم حفظ الصور بعد Custom Preprocessing.\")\n"
      ]
    },
    {
      "cell_type": "code",
      "execution_count": null,
      "metadata": {
        "colab": {
          "background_save": true
        },
        "id": "ZalruhLTY4-E",
        "outputId": "ca289f22-4f2d-4c46-ad32-1b7055d41af6"
      },
      "outputs": [
        {
          "name": "stdout",
          "output_type": "stream",
          "text": [
            "rm: cannot remove '/content/animals10/val_thresholded': No such file or directory\n"
          ]
        }
      ],
      "source": [
        "!rm -r /content/animals10/val_thresholded"
      ]
    },
    {
      "cell_type": "markdown",
      "metadata": {
        "id": "x7C2byCdPUmm"
      },
      "source": [
        "Segmentation"
      ]
    },
    {
      "cell_type": "code",
      "execution_count": null,
      "metadata": {
        "colab": {
          "background_save": true
        },
        "id": "LsKwaTnXidQG"
      },
      "outputs": [],
      "source": [
        "def thresholding_segmentation(input_dir, output_dir, threshold_value=127):\n",
        "    if not os.path.exists(output_dir):\n",
        "        os.makedirs(output_dir)\n",
        "\n",
        "    for class_name in os.listdir(input_dir):\n",
        "        class_path = os.path.join(input_dir, class_name)\n",
        "        output_class_path = os.path.join(output_dir, class_name)\n",
        "\n",
        "        if not os.path.exists(output_class_path):\n",
        "            os.makedirs(output_class_path)\n",
        "\n",
        "        for img_name in tqdm(os.listdir(class_path), desc=f\"Segmenting {class_name}\"):\n",
        "            img_path = os.path.join(class_path, img_name)\n",
        "            img = cv2.imread(img_path)\n",
        "\n",
        "            if img is None:\n",
        "                continue\n",
        "\n",
        "            gray = cv2.cvtColor(img, cv2.COLOR_BGR2GRAY)\n",
        "            _, thresh = cv2.threshold(gray, threshold_value, 255, cv2.THRESH_BINARY)\n",
        "\n",
        "            kernel = np.ones((5, 5), np.uint8)\n",
        "            closed = cv2.morphologyEx(thresh, cv2.MORPH_CLOSE, kernel)\n",
        "\n",
        "            contours, _ = cv2.findContours(closed, cv2.RETR_EXTERNAL, cv2.CHAIN_APPROX_SIMPLE)\n",
        "            if contours:\n",
        "                largest = max(contours, key=cv2.contourArea)\n",
        "                x, y, w, h = cv2.boundingRect(largest)\n",
        "                roi = img[y:y+h, x:x+w]\n",
        "                roi_resized = cv2.resize(roi, (224, 224))\n",
        "                cv2.imwrite(os.path.join(output_class_path, img_name), roi_resized)\n",
        "\n",
        "    print(\"✅ تم تنفيذ Segmentation بعد Preprocessing.\")\n"
      ]
    },
    {
      "cell_type": "markdown",
      "metadata": {
        "id": "wrpFV_zcC9Ei"
      },
      "source": [
        "#Make directors to check"
      ]
    },
    {
      "cell_type": "code",
      "execution_count": null,
      "metadata": {
        "colab": {
          "background_save": true
        },
        "id": "HbZfRWGliWss",
        "outputId": "30699d75-2d10-4afb-fff7-0228d4539d66"
      },
      "outputs": [
        {
          "name": "stderr",
          "output_type": "stream",
          "text": [
            "Preprocessing sheep: 100%|██████████| 3890/3890 [00:20<00:00, 188.11it/s]\n",
            "Preprocessing horse: 100%|██████████| 3890/3890 [00:17<00:00, 217.96it/s]\n",
            "Preprocessing cat: 100%|██████████| 3890/3890 [00:52<00:00, 73.97it/s]\n",
            "Preprocessing chicken: 100%|██████████| 3890/3890 [00:17<00:00, 223.92it/s]\n",
            "Preprocessing butterfly: 100%|██████████| 3890/3890 [00:20<00:00, 190.84it/s]\n",
            "Preprocessing dog: 100%|██████████| 3890/3890 [00:18<00:00, 209.88it/s]\n",
            "Preprocessing squirrel: 100%|██████████| 3890/3890 [00:15<00:00, 244.65it/s]\n",
            "Preprocessing elephant: 100%|██████████| 3890/3890 [00:18<00:00, 208.57it/s]\n",
            "Preprocessing cow: 100%|██████████| 3890/3890 [00:15<00:00, 252.46it/s]\n",
            "Preprocessing ragno: 100%|██████████| 3890/3890 [00:20<00:00, 186.44it/s]\n"
          ]
        },
        {
          "name": "stdout",
          "output_type": "stream",
          "text": [
            "✅ تم حفظ الصور بعد Custom Preprocessing.\n"
          ]
        },
        {
          "name": "stderr",
          "output_type": "stream",
          "text": [
            "Preprocessing sheep: 100%|██████████| 486/486 [00:02<00:00, 194.06it/s]\n",
            "Preprocessing horse: 100%|██████████| 486/486 [00:02<00:00, 227.22it/s]\n",
            "Preprocessing cat: 100%|██████████| 486/486 [00:06<00:00, 74.59it/s] \n",
            "Preprocessing chicken: 100%|██████████| 486/486 [00:02<00:00, 207.30it/s]\n",
            "Preprocessing butterfly: 100%|██████████| 486/486 [00:02<00:00, 198.88it/s]\n",
            "Preprocessing dog: 100%|██████████| 486/486 [00:02<00:00, 204.65it/s]\n",
            "Preprocessing squirrel: 100%|██████████| 486/486 [00:02<00:00, 236.66it/s]\n",
            "Preprocessing elephant: 100%|██████████| 486/486 [00:02<00:00, 210.55it/s]\n",
            "Preprocessing cow: 100%|██████████| 486/486 [00:02<00:00, 240.91it/s]\n",
            "Preprocessing ragno: 100%|██████████| 486/486 [00:02<00:00, 191.57it/s]\n"
          ]
        },
        {
          "name": "stdout",
          "output_type": "stream",
          "text": [
            "✅ تم حفظ الصور بعد Custom Preprocessing.\n"
          ]
        },
        {
          "name": "stderr",
          "output_type": "stream",
          "text": [
            "Preprocessing sheep: 100%|██████████| 487/487 [00:02<00:00, 197.41it/s]\n",
            "Preprocessing horse: 100%|██████████| 487/487 [00:02<00:00, 233.70it/s]\n",
            "Preprocessing cat: 100%|██████████| 487/487 [00:06<00:00, 77.58it/s]\n",
            "Preprocessing chicken: 100%|██████████| 487/487 [00:02<00:00, 218.03it/s]\n",
            "Preprocessing butterfly: 100%|██████████| 487/487 [00:02<00:00, 182.78it/s]\n",
            "Preprocessing dog: 100%|██████████| 487/487 [00:02<00:00, 207.04it/s]\n",
            "Preprocessing squirrel: 100%|██████████| 487/487 [00:02<00:00, 239.26it/s]\n",
            "Preprocessing elephant: 100%|██████████| 487/487 [00:02<00:00, 195.08it/s]\n",
            "Preprocessing cow: 100%|██████████| 487/487 [00:02<00:00, 240.34it/s]\n",
            "Preprocessing ragno: 100%|██████████| 487/487 [00:02<00:00, 175.04it/s]\n"
          ]
        },
        {
          "name": "stdout",
          "output_type": "stream",
          "text": [
            "✅ تم حفظ الصور بعد Custom Preprocessing.\n"
          ]
        },
        {
          "name": "stderr",
          "output_type": "stream",
          "text": [
            "Segmenting sheep: 100%|██████████| 3890/3890 [00:08<00:00, 444.02it/s]\n",
            "Segmenting horse: 100%|██████████| 3890/3890 [00:07<00:00, 514.95it/s]\n",
            "Segmenting cat: 100%|██████████| 3890/3890 [00:15<00:00, 258.61it/s]\n",
            "Segmenting chicken: 100%|██████████| 3890/3890 [00:08<00:00, 476.38it/s]\n",
            "Segmenting butterfly: 100%|██████████| 3890/3890 [00:08<00:00, 438.57it/s]\n",
            "Segmenting dog: 100%|██████████| 3890/3890 [00:08<00:00, 479.60it/s]\n",
            "Segmenting squirrel: 100%|██████████| 3890/3890 [00:07<00:00, 527.09it/s]\n",
            "Segmenting elephant: 100%|██████████| 3890/3890 [00:08<00:00, 460.24it/s]\n",
            "Segmenting cow: 100%|██████████| 3890/3890 [00:07<00:00, 524.62it/s]\n",
            "Segmenting ragno: 100%|██████████| 3890/3890 [00:09<00:00, 425.70it/s]\n"
          ]
        },
        {
          "name": "stdout",
          "output_type": "stream",
          "text": [
            "✅ تم تنفيذ Segmentation بعد Preprocessing.\n"
          ]
        },
        {
          "name": "stderr",
          "output_type": "stream",
          "text": [
            "Segmenting sheep: 100%|██████████| 486/486 [00:01<00:00, 429.34it/s]\n",
            "Segmenting horse: 100%|██████████| 486/486 [00:00<00:00, 510.12it/s]\n",
            "Segmenting cat: 100%|██████████| 486/486 [00:01<00:00, 273.31it/s]\n",
            "Segmenting chicken: 100%|██████████| 486/486 [00:01<00:00, 482.62it/s]\n",
            "Segmenting butterfly: 100%|██████████| 486/486 [00:01<00:00, 473.93it/s]\n",
            "Segmenting dog: 100%|██████████| 486/486 [00:01<00:00, 478.31it/s]\n",
            "Segmenting squirrel: 100%|██████████| 486/486 [00:00<00:00, 529.17it/s]\n",
            "Segmenting elephant: 100%|██████████| 486/486 [00:01<00:00, 484.09it/s]\n",
            "Segmenting cow: 100%|██████████| 486/486 [00:00<00:00, 511.15it/s]\n",
            "Segmenting ragno: 100%|██████████| 486/486 [00:01<00:00, 421.74it/s]\n"
          ]
        },
        {
          "name": "stdout",
          "output_type": "stream",
          "text": [
            "✅ تم تنفيذ Segmentation بعد Preprocessing.\n"
          ]
        },
        {
          "name": "stderr",
          "output_type": "stream",
          "text": [
            "Segmenting sheep: 100%|██████████| 487/487 [00:01<00:00, 436.29it/s]\n",
            "Segmenting horse: 100%|██████████| 487/487 [00:00<00:00, 521.61it/s]\n",
            "Segmenting cat: 100%|██████████| 487/487 [00:01<00:00, 277.05it/s]\n",
            "Segmenting chicken: 100%|██████████| 487/487 [00:01<00:00, 484.37it/s]\n",
            "Segmenting butterfly: 100%|██████████| 487/487 [00:01<00:00, 453.99it/s]\n",
            "Segmenting dog: 100%|██████████| 487/487 [00:00<00:00, 488.48it/s]\n",
            "Segmenting squirrel: 100%|██████████| 487/487 [00:00<00:00, 534.08it/s]\n",
            "Segmenting elephant: 100%|██████████| 487/487 [00:01<00:00, 443.44it/s]\n",
            "Segmenting cow: 100%|██████████| 487/487 [00:00<00:00, 521.58it/s]\n",
            "Segmenting ragno: 100%|██████████| 487/487 [00:01<00:00, 404.51it/s]"
          ]
        },
        {
          "name": "stdout",
          "output_type": "stream",
          "text": [
            "✅ تم تنفيذ Segmentation بعد Preprocessing.\n"
          ]
        },
        {
          "name": "stderr",
          "output_type": "stream",
          "text": [
            "\n"
          ]
        }
      ],
      "source": [
        "# المسارات الأصلية\n",
        "train_dir = '/content/animals10/train/'\n",
        "val_dir = '/content/animals10/val/'\n",
        "test_dir = '/content/animals10/test/'\n",
        "\n",
        "# مسارات بعد Preprocessing\n",
        "train_preprocessed = '/content/animals10/train_preprocessed/'\n",
        "val_preprocessed = '/content/animals10/val_preprocessed/'\n",
        "test_preprocessed = '/content/animals10/test_preprocessed/'\n",
        "\n",
        "# مسارات بعد Segmentation\n",
        "train_final = '/content/animals10/train_final/'\n",
        "val_final = '/content/animals10/val_final/'\n",
        "test_final = '/content/animals10/test_final/'\n",
        "\n",
        "# خطوة 1: Preprocessing\n",
        "apply_custom_preprocessing_to_folder(train_dir, train_preprocessed)\n",
        "apply_custom_preprocessing_to_folder(val_dir, val_preprocessed)\n",
        "apply_custom_preprocessing_to_folder(test_dir, test_preprocessed)\n",
        "\n",
        "# خطوة 2: Segmentation\n",
        "thresholding_segmentation(train_preprocessed, train_final)\n",
        "thresholding_segmentation(val_preprocessed, val_final)\n",
        "thresholding_segmentation(test_preprocessed, test_final)\n"
      ]
    },
    {
      "cell_type": "markdown",
      "metadata": {
        "id": "jnOuUXojDlhy"
      },
      "source": [
        "#Feature extraction (CNN)"
      ]
    },
    {
      "cell_type": "code",
      "execution_count": null,
      "metadata": {
        "colab": {
          "background_save": true
        },
        "id": "d1lGqM4IDucW"
      },
      "outputs": [],
      "source": [
        "# معلومات عن المسارات\n",
        "train_final = '/content/animals10/train_final/'\n",
        "val_final = '/content/animals10/val_final/'\n",
        "test_final = '/content/animals10/test_final/'\n",
        "\n",
        "# تحديد حجم الصور\n",
        "img_width, img_height = 224, 224\n",
        "\n",
        "# 3. استخراج الميزات (Feature Extraction)\n",
        "# دالة لاستخراج الميزات باستخدام CNN\n",
        "def create_feature_extractor():\n",
        "    model = Sequential()\n",
        "\n",
        "    # الطبقات التحليلية (Convolutional layers)\n",
        "    model.add(Conv2D(32, (3, 3), activation='relu', input_shape=(img_width, img_height, 3)))\n",
        "    model.add(MaxPooling2D((2, 2)))\n",
        "\n",
        "    model.add(Conv2D(64, (3, 3), activation='relu'))\n",
        "    model.add(MaxPooling2D((2, 2)))\n",
        "\n",
        "    model.add(Conv2D(128, (3, 3), activation='relu'))\n",
        "    model.add(MaxPooling2D((2, 2)))\n",
        "\n",
        "    model.add(Conv2D(128, (3, 3), activation='relu'))\n",
        "    model.add(MaxPooling2D((2, 2)))\n",
        "\n",
        "    # استخراج الميزات\n",
        "    model.add(Flatten())\n",
        "\n",
        "    return model"
      ]
    },
    {
      "cell_type": "markdown",
      "metadata": {
        "id": "M6lHxVynD2B1"
      },
      "source": [
        "#CNN from scratch"
      ]
    },
    {
      "cell_type": "code",
      "execution_count": null,
      "metadata": {
        "colab": {
          "background_save": true
        },
        "id": "4z4FtKoeD6SU"
      },
      "outputs": [],
      "source": [
        "# 4. التصنيف (Classification) باستخدام CNN from scratch\n",
        "def create_classifier(feature_extractor, num_classes):\n",
        "    model = Sequential()\n",
        "\n",
        "    # إضافة feature extractor\n",
        "    model.add(feature_extractor)\n",
        "\n",
        "    # طبقات التصنيف (fully connected layers)\n",
        "    model.add(Dense(512, activation='relu'))\n",
        "    model.add(Dropout(0.5))\n",
        "    model.add(Dense(num_classes, activation='softmax'))\n",
        "\n",
        "    # تجميع النموذج\n",
        "    model.compile(\n",
        "        loss='categorical_crossentropy',\n",
        "        optimizer=Adam(learning_rate=0.0001),\n",
        "        metrics=['accuracy']\n",
        "    )\n",
        "\n",
        "    return model"
      ]
    },
    {
      "cell_type": "markdown",
      "metadata": {
        "id": "FHNRvY4YECiO"
      },
      "source": [
        "#Image generator"
      ]
    },
    {
      "cell_type": "code",
      "execution_count": null,
      "metadata": {
        "colab": {
          "background_save": true
        },
        "id": "1dsewyL_EG2I",
        "outputId": "94455ce5-1ae7-49f8-91c5-418a673a5a65"
      },
      "outputs": [
        {
          "name": "stdout",
          "output_type": "stream",
          "text": [
            "Found 38900 images belonging to 10 classes.\n",
            "Found 4860 images belonging to 10 classes.\n",
            "Found 4870 images belonging to 10 classes.\n"
          ]
        }
      ],
      "source": [
        "# تهيئة مولدات البيانات\n",
        "train_datagen = ImageDataGenerator(\n",
        "    rescale=1./255,\n",
        "    rotation_range=30,\n",
        "    width_shift_range=0.2,\n",
        "    height_shift_range=0.2,\n",
        "    zoom_range=0.3,\n",
        "    brightness_range=[0.8, 1.2],\n",
        "    shear_range=0.2,\n",
        "    horizontal_flip=True,\n",
        "    fill_mode='nearest'\n",
        ")\n",
        "\n",
        "val_test_datagen = ImageDataGenerator(rescale=1./255)\n",
        "\n",
        "train_generator = train_datagen.flow_from_directory(\n",
        "    train_final,\n",
        "    target_size=(img_width, img_height),\n",
        "    batch_size=32,\n",
        "    class_mode='categorical'\n",
        ")\n",
        "\n",
        "val_generator = val_test_datagen.flow_from_directory(\n",
        "    val_final,\n",
        "    target_size=(img_width, img_height),\n",
        "    batch_size=32,\n",
        "    class_mode='categorical'\n",
        ")\n",
        "\n",
        "test_generator = val_test_datagen.flow_from_directory(\n",
        "    test_final,\n",
        "    target_size=(img_width, img_height),\n",
        "    batch_size=32,\n",
        "    class_mode='categorical',\n",
        "    shuffle=False\n",
        ")\n"
      ]
    },
    {
      "cell_type": "code",
      "execution_count": null,
      "metadata": {
        "colab": {
          "background_save": true
        },
        "id": "g2uAU3J0EKiQ",
        "outputId": "6462f5ae-cd96-40d0-e252-648f6c1216f7"
      },
      "outputs": [
        {
          "name": "stdout",
          "output_type": "stream",
          "text": [
            "عدد الفئات: 10\n",
            "أسماء الفئات: ['butterfly', 'cat', 'chicken', 'cow', 'dog', 'elephant', 'horse', 'ragno', 'sheep', 'squirrel']\n"
          ]
        }
      ],
      "source": [
        "# عدد الفئات\n",
        "num_classes = len(train_generator.class_indices)\n",
        "class_names = list(train_generator.class_indices.keys())\n",
        "print(f\"عدد الفئات: {num_classes}\")\n",
        "print(f\"أسماء الفئات: {class_names}\")"
      ]
    },
    {
      "cell_type": "markdown",
      "metadata": {
        "id": "2ueiEX8gEUXH"
      },
      "source": [
        "#Start model"
      ]
    },
    {
      "cell_type": "code",
      "execution_count": null,
      "metadata": {
        "id": "qz2vH4moETgA",
        "colab": {
          "base_uri": "https://localhost:8080/",
          "height": 451
        },
        "outputId": "8bc30444-0172-4cc6-96ee-09538d846c15"
      },
      "outputs": [
        {
          "metadata": {
            "tags": null
          },
          "name": "stderr",
          "output_type": "stream",
          "text": [
            "/usr/local/lib/python3.11/dist-packages/keras/src/layers/convolutional/base_conv.py:107: UserWarning: Do not pass an `input_shape`/`input_dim` argument to a layer. When using Sequential models, prefer using an `Input(shape)` object as the first layer in the model instead.\n",
            "  super().__init__(activity_regularizer=activity_regularizer, **kwargs)\n"
          ]
        },
        {
          "data": {
            "text/html": [
              "<pre style=\"white-space:pre;overflow-x:auto;line-height:normal;font-family:Menlo,'DejaVu Sans Mono',consolas,'Courier New',monospace\"><span style=\"font-weight: bold\">Model: \"sequential_1\"</span>\n",
              "</pre>\n"
            ],
            "text/plain": [
              "\u001b[1mModel: \"sequential_1\"\u001b[0m\n"
            ]
          },
          "metadata": {},
          "output_type": "display_data"
        },
        {
          "data": {
            "text/html": [
              "<pre style=\"white-space:pre;overflow-x:auto;line-height:normal;font-family:Menlo,'DejaVu Sans Mono',consolas,'Courier New',monospace\">┏━━━━━━━━━━━━━━━━━━━━━━━━━━━━━━━━━┳━━━━━━━━━━━━━━━━━━━━━━━━┳━━━━━━━━━━━━━━━┓\n",
              "┃<span style=\"font-weight: bold\"> Layer (type)                    </span>┃<span style=\"font-weight: bold\"> Output Shape           </span>┃<span style=\"font-weight: bold\">       Param # </span>┃\n",
              "┡━━━━━━━━━━━━━━━━━━━━━━━━━━━━━━━━━╇━━━━━━━━━━━━━━━━━━━━━━━━╇━━━━━━━━━━━━━━━┩\n",
              "│ sequential (<span style=\"color: #0087ff; text-decoration-color: #0087ff\">Sequential</span>)         │ (<span style=\"color: #00d7ff; text-decoration-color: #00d7ff\">None</span>, <span style=\"color: #00af00; text-decoration-color: #00af00\">18432</span>)          │       <span style=\"color: #00af00; text-decoration-color: #00af00\">240,832</span> │\n",
              "├─────────────────────────────────┼────────────────────────┼───────────────┤\n",
              "│ dense (<span style=\"color: #0087ff; text-decoration-color: #0087ff\">Dense</span>)                   │ (<span style=\"color: #00d7ff; text-decoration-color: #00d7ff\">None</span>, <span style=\"color: #00af00; text-decoration-color: #00af00\">512</span>)            │     <span style=\"color: #00af00; text-decoration-color: #00af00\">9,437,696</span> │\n",
              "├─────────────────────────────────┼────────────────────────┼───────────────┤\n",
              "│ dropout (<span style=\"color: #0087ff; text-decoration-color: #0087ff\">Dropout</span>)               │ (<span style=\"color: #00d7ff; text-decoration-color: #00d7ff\">None</span>, <span style=\"color: #00af00; text-decoration-color: #00af00\">512</span>)            │             <span style=\"color: #00af00; text-decoration-color: #00af00\">0</span> │\n",
              "├─────────────────────────────────┼────────────────────────┼───────────────┤\n",
              "│ dense_1 (<span style=\"color: #0087ff; text-decoration-color: #0087ff\">Dense</span>)                 │ (<span style=\"color: #00d7ff; text-decoration-color: #00d7ff\">None</span>, <span style=\"color: #00af00; text-decoration-color: #00af00\">10</span>)             │         <span style=\"color: #00af00; text-decoration-color: #00af00\">5,130</span> │\n",
              "└─────────────────────────────────┴────────────────────────┴───────────────┘\n",
              "</pre>\n"
            ],
            "text/plain": [
              "┏━━━━━━━━━━━━━━━━━━━━━━━━━━━━━━━━━┳━━━━━━━━━━━━━━━━━━━━━━━━┳━━━━━━━━━━━━━━━┓\n",
              "┃\u001b[1m \u001b[0m\u001b[1mLayer (type)                   \u001b[0m\u001b[1m \u001b[0m┃\u001b[1m \u001b[0m\u001b[1mOutput Shape          \u001b[0m\u001b[1m \u001b[0m┃\u001b[1m \u001b[0m\u001b[1m      Param #\u001b[0m\u001b[1m \u001b[0m┃\n",
              "┡━━━━━━━━━━━━━━━━━━━━━━━━━━━━━━━━━╇━━━━━━━━━━━━━━━━━━━━━━━━╇━━━━━━━━━━━━━━━┩\n",
              "│ sequential (\u001b[38;5;33mSequential\u001b[0m)         │ (\u001b[38;5;45mNone\u001b[0m, \u001b[38;5;34m18432\u001b[0m)          │       \u001b[38;5;34m240,832\u001b[0m │\n",
              "├─────────────────────────────────┼────────────────────────┼───────────────┤\n",
              "│ dense (\u001b[38;5;33mDense\u001b[0m)                   │ (\u001b[38;5;45mNone\u001b[0m, \u001b[38;5;34m512\u001b[0m)            │     \u001b[38;5;34m9,437,696\u001b[0m │\n",
              "├─────────────────────────────────┼────────────────────────┼───────────────┤\n",
              "│ dropout (\u001b[38;5;33mDropout\u001b[0m)               │ (\u001b[38;5;45mNone\u001b[0m, \u001b[38;5;34m512\u001b[0m)            │             \u001b[38;5;34m0\u001b[0m │\n",
              "├─────────────────────────────────┼────────────────────────┼───────────────┤\n",
              "│ dense_1 (\u001b[38;5;33mDense\u001b[0m)                 │ (\u001b[38;5;45mNone\u001b[0m, \u001b[38;5;34m10\u001b[0m)             │         \u001b[38;5;34m5,130\u001b[0m │\n",
              "└─────────────────────────────────┴────────────────────────┴───────────────┘\n"
            ]
          },
          "metadata": {},
          "output_type": "display_data"
        },
        {
          "data": {
            "text/html": [
              "<pre style=\"white-space:pre;overflow-x:auto;line-height:normal;font-family:Menlo,'DejaVu Sans Mono',consolas,'Courier New',monospace\"><span style=\"font-weight: bold\"> Total params: </span><span style=\"color: #00af00; text-decoration-color: #00af00\">9,683,658</span> (36.94 MB)\n",
              "</pre>\n"
            ],
            "text/plain": [
              "\u001b[1m Total params: \u001b[0m\u001b[38;5;34m9,683,658\u001b[0m (36.94 MB)\n"
            ]
          },
          "metadata": {},
          "output_type": "display_data"
        },
        {
          "data": {
            "text/html": [
              "<pre style=\"white-space:pre;overflow-x:auto;line-height:normal;font-family:Menlo,'DejaVu Sans Mono',consolas,'Courier New',monospace\"><span style=\"font-weight: bold\"> Trainable params: </span><span style=\"color: #00af00; text-decoration-color: #00af00\">9,683,658</span> (36.94 MB)\n",
              "</pre>\n"
            ],
            "text/plain": [
              "\u001b[1m Trainable params: \u001b[0m\u001b[38;5;34m9,683,658\u001b[0m (36.94 MB)\n"
            ]
          },
          "metadata": {},
          "output_type": "display_data"
        },
        {
          "data": {
            "text/html": [
              "<pre style=\"white-space:pre;overflow-x:auto;line-height:normal;font-family:Menlo,'DejaVu Sans Mono',consolas,'Courier New',monospace\"><span style=\"font-weight: bold\"> Non-trainable params: </span><span style=\"color: #00af00; text-decoration-color: #00af00\">0</span> (0.00 B)\n",
              "</pre>\n"
            ],
            "text/plain": [
              "\u001b[1m Non-trainable params: \u001b[0m\u001b[38;5;34m0\u001b[0m (0.00 B)\n"
            ]
          },
          "metadata": {},
          "output_type": "display_data"
        },
        {
          "metadata": {
            "tags": null
          },
          "name": "stderr",
          "output_type": "stream",
          "text": [
            "/usr/local/lib/python3.11/dist-packages/keras/src/trainers/data_adapters/py_dataset_adapter.py:121: UserWarning: Your `PyDataset` class should call `super().__init__(**kwargs)` in its constructor. `**kwargs` can include `workers`, `use_multiprocessing`, `max_queue_size`. Do not pass these arguments to `fit()`, as they will be ignored.\n",
            "  self._warn_if_super_not_called()\n"
          ]
        },
        {
          "output_type": "stream",
          "name": "stdout",
          "text": [
            "Epoch 1/10\n",
            "\u001b[1m1216/1216\u001b[0m \u001b[32m━━━━━━━━━━━━━━━━━━━━\u001b[0m\u001b[37m\u001b[0m \u001b[1m524s\u001b[0m 425ms/step - accuracy: 0.4139 - loss: 1.7209 - val_accuracy: 0.6549 - val_loss: 0.9857\n",
            "Epoch 2/10\n",
            "\u001b[1m1216/1216\u001b[0m \u001b[32m━━━━━━━━━━━━━━━━━━━━\u001b[0m\u001b[37m\u001b[0m \u001b[1m505s\u001b[0m 415ms/step - accuracy: 0.6455 - loss: 1.0640 - val_accuracy: 0.7070 - val_loss: 0.8575\n",
            "Epoch 3/10\n",
            "\u001b[1m 612/1216\u001b[0m \u001b[32m━━━━━━━━━━\u001b[0m\u001b[37m━━━━━━━━━━\u001b[0m \u001b[1m4:08\u001b[0m 411ms/step - accuracy: 0.6763 - loss: 0.9548"
          ]
        }
      ],
      "source": [
        "import os\n",
        "import numpy as np\n",
        "import cv2\n",
        "import matplotlib.pyplot as plt\n",
        "from tensorflow.keras.models import Sequential, Model\n",
        "from tensorflow.keras.layers import Dense, Dropout, Flatten, Conv2D, MaxPooling2D, Input\n",
        "from tensorflow.keras.optimizers import Adam\n",
        "from tensorflow.keras.utils import to_categorical\n",
        "from tensorflow.keras.preprocessing.image import ImageDataGenerator, load_img, img_to_array\n",
        "from sklearn.metrics import classification_report, confusion_matrix, accuracy_score, precision_score, recall_score, f1_score\n",
        "import gradio as gr\n",
        "import tensorflow as tf\n",
        "from PIL import Image, ImageDraw, ImageFont\n",
        "import random\n",
        "# إنشاء النموذج\n",
        "feature_extractor = create_feature_extractor()\n",
        "model = create_classifier(feature_extractor, num_classes)\n",
        "\n",
        "# عرض ملخص النموذج\n",
        "model.summary()\n",
        "\n",
        "# تدريب النموذج\n",
        "# يمكنك تعديل عدد الحقب حسب الحاجة\n",
        "history = model.fit(\n",
        "    train_generator,\n",
        "    epochs=10,  # قد تحتاج لزيادة هذا العدد لتحسين الدقة\n",
        "    validation_data=val_generator,\n",
        "    verbose=1\n",
        ")\n"
      ]
    },
    {
      "cell_type": "markdown",
      "metadata": {
        "id": "nCA_C2cLEyMc"
      },
      "source": [
        "#Classification Report"
      ]
    },
    {
      "cell_type": "code",
      "execution_count": null,
      "metadata": {
        "id": "Vyj9qv7zE484"
      },
      "outputs": [],
      "source": [
        "# 5. التقييم وقياسات الأداء\n",
        "# تقييم النموذج على مجموعة الاختبار\n",
        "print(\"تقييم النموذج على مجموعة الاختبار...\")\n",
        "test_loss, test_accuracy = model.evaluate(test_generator)\n",
        "print(f\"دقة الاختبار: {test_accuracy:.4f}\")\n",
        "\n",
        "# توقع الفئات لمجموعة الاختبار\n",
        "y_pred_probs = model.predict(test_generator)\n",
        "y_pred = np.argmax(y_pred_probs, axis=1)\n",
        "y_true = test_generator.classes\n",
        "\n",
        "# حساب مقاييس الأداء\n",
        "print(\"\\nتقرير التصنيف:\")\n",
        "print(classification_report(y_true, y_pred, target_names=class_names))\n",
        "\n",
        "accuracy = accuracy_score(y_true, y_pred)\n",
        "precision = precision_score(y_true, y_pred, average='weighted')\n",
        "recall = recall_score(y_true, y_pred, average='weighted')\n",
        "f1 = f1_score(y_true, y_pred, average='weighted')\n",
        "\n",
        "print(f\"الدقة (Accuracy): {accuracy:.4f}\")\n",
        "print(f\"الدقة (Precision): {precision:.4f}\")\n",
        "print(f\"الاستدعاء (Recall): {recall:.4f}\")\n",
        "print(f\"درجة F1 (F1-score): {f1:.4f}\")"
      ]
    },
    {
      "cell_type": "code",
      "execution_count": null,
      "metadata": {
        "id": "nvSr72odE8xL"
      },
      "outputs": [],
      "source": [
        "# رسم مصفوفة الارتباك (Confusion Matrix)\n",
        "plt.figure(figsize=(10, 8))\n",
        "cm = confusion_matrix(y_true, y_pred)\n",
        "plt.imshow(cm, interpolation='nearest', cmap=plt.cm.Blues)\n",
        "plt.title('Confusion Matrix')\n",
        "plt.colorbar()\n",
        "tick_marks = np.arange(len(class_names))\n",
        "plt.xticks(tick_marks, class_names, rotation=45)\n",
        "plt.yticks(tick_marks, class_names)\n",
        "plt.tight_layout()\n",
        "plt.ylabel('True')\n",
        "plt.xlabel('Predicted')\n",
        "plt.show()"
      ]
    },
    {
      "cell_type": "markdown",
      "metadata": {
        "id": "6VouGUddFAhr"
      },
      "source": [
        "#Ploting"
      ]
    },
    {
      "cell_type": "code",
      "execution_count": null,
      "metadata": {
        "id": "D2B3e7iGFCbJ"
      },
      "outputs": [],
      "source": [
        "# Plot Training Curves\n",
        "plt.figure(figsize=(12, 4))\n",
        "\n",
        "# Accuracy plot\n",
        "plt.subplot(1, 2, 1)\n",
        "plt.plot(history.history['accuracy'])\n",
        "plt.plot(history.history['val_accuracy'])\n",
        "plt.title('Model Accuracy')\n",
        "plt.ylabel('Accuracy')\n",
        "plt.xlabel('Epoch')\n",
        "plt.legend(['Training', 'Validation'], loc='upper left')\n",
        "\n",
        "# Loss plot\n",
        "plt.subplot(1, 2, 2)\n",
        "plt.plot(history.history['loss'])\n",
        "plt.plot(history.history['val_loss'])\n",
        "plt.title('Model Loss')\n",
        "plt.ylabel('Loss')\n",
        "plt.xlabel('Epoch')\n",
        "plt.legend(['Training', 'Validation'], loc='upper right')\n",
        "\n",
        "plt.tight_layout()\n",
        "plt.show()\n"
      ]
    },
    {
      "cell_type": "code",
      "execution_count": null,
      "metadata": {
        "id": "ucLdix24FF82"
      },
      "outputs": [],
      "source": [
        "# حفظ النموذج\n",
        "model.save('animal_detection_model.h5')\n",
        "print(\"تم حفظ النموذج بنجاح.\")"
      ]
    },
    {
      "cell_type": "markdown",
      "metadata": {
        "id": "0TaTS98_HJS3"
      },
      "source": [
        "#Detection"
      ]
    },
    {
      "cell_type": "code",
      "source": [
        "import zipfile\n",
        "import os\n",
        "\n",
        "# Path to your zip file\n",
        "zip_path = \"/content/drive/MyDrive/animal_detection_model.zip\"\n",
        "\n",
        "# Destination directory (where to extract)\n",
        "extract_dir = \"/content\"\n",
        "\n",
        "# Extract the contents\n",
        "with zipfile.ZipFile(zip_path, 'r') as zip_ref:\n",
        "    zip_ref.extractall(extract_dir)\n",
        "\n",
        "print(f\"Successfully extracted {zip_path} to {extract_dir}\")\n",
        "\n",
        "# List items in the extraction directory to see what was created\n",
        "items_in_content = os.listdir(extract_dir)\n",
        "print(f\"Items in {extract_dir}: {items_in_content}\")\n",
        "\n",
        "# Try to find the extracted folder by looking for potential matches\n",
        "for item in items_in_content:\n",
        "    if \"animal\" in item.lower() or \"detection\" in item.lower() or \"model\" in item.lower():\n",
        "        print(f\"Found potential model folder: {item}\")\n",
        "        model_dir = os.path.join(extract_dir, item)\n",
        "        if os.path.isdir(model_dir):\n",
        "            print(f\"Contents of {model_dir}:\")\n",
        "            print(os.listdir(model_dir))"
      ],
      "metadata": {
        "colab": {
          "base_uri": "https://localhost:8080/"
        },
        "id": "TYwzJjzIQqR2",
        "outputId": "5c84b7b4-a08d-43e0-9e18-966300bb1646"
      },
      "execution_count": 4,
      "outputs": [
        {
          "output_type": "stream",
          "name": "stdout",
          "text": [
            "Successfully extracted /content/drive/MyDrive/animal_detection_model.zip to /content\n",
            "Items in /content: ['.config', 'animal_detection_model.h5', 'drive', 'sample_data']\n",
            "Found potential model folder: animal_detection_model.h5\n"
          ]
        }
      ]
    },
    {
      "cell_type": "code",
      "execution_count": 5,
      "metadata": {
        "id": "F8Z3s4jpHIf9",
        "colab": {
          "base_uri": "https://localhost:8080/"
        },
        "outputId": "391734a2-fa40-4a7c-d814-c1c6eb4d2291"
      },
      "outputs": [
        {
          "output_type": "stream",
          "name": "stderr",
          "text": [
            "WARNING:absl:Compiled the loaded model, but the compiled metrics have yet to be built. `model.compile_metrics` will be empty until you train or evaluate the model.\n"
          ]
        }
      ],
      "source": [
        "model_path = '/content/animal_detection_model.h5'\n",
        "model = load_model(model_path)\n",
        "\n",
        "# أبعاد الصورة المتوقعة model\n",
        "img_width, img_height = 224, 224\n",
        "\n",
        "# قائمة أسماء الفئات (يجب تعديلها حسب فئات النموذج)\n",
        "# هذه مجرد أمثلة، استبدلها بالفئات الحقيقية للنموذج\n",
        "class_names = ['قطة', 'كلب', 'فرس', 'بقرة', 'طائر', 'أرنب', 'سلحفاة', 'سمكة', 'حصان', 'غزال', 'حيوان']\n",
        "\n",
        "# وظيفة محسنة للكشف عن الكائنات في الصورة - بتركيز على الكائن الأكبر\n",
        "def detect_objects(image_path, confidence_threshold=0.6):  # تقليل حد الثقة لزيادة حساسية الكشف\n",
        "    # تحميل الصورة الأصلية\n",
        "    original_image = cv2.imread(image_path)\n",
        "    original_image = cv2.cvtColor(original_image, cv2.COLOR_BGR2RGB)\n",
        "\n",
        "    # الحصول على أبعاد الصورة الأصلية\n",
        "    h, w = original_image.shape[:2]\n",
        "\n",
        "    # تقسيم الصورة إلى نوافذ متتالية بأحجام مختلفة\n",
        "    detections = []\n",
        "\n",
        "    # بدلاً من الاعتماد على عدد محدود من أحجام النوافذ، سنستخدم نهجاً متعدد المقاييس\n",
        "    # أولاً - نحاول تصنيف الصورة بأكملها دائماً\n",
        "    full_image_resized = cv2.resize(original_image, (img_width, img_height))\n",
        "    input_img = full_image_resized / 255.0\n",
        "    input_img = np.expand_dims(input_img, axis=0)\n",
        "\n",
        "    pred = model.predict(input_img, verbose=0)\n",
        "    class_idx = np.argmax(pred[0])\n",
        "    confidence = pred[0][class_idx]\n",
        "    class_name = class_names[class_idx]\n",
        "\n",
        "    # إضافة كشف للصورة كاملة\n",
        "    whole_image_detection = {\n",
        "        'bbox': (0, 0, w, h),\n",
        "        'class': class_name,\n",
        "        'confidence': float(confidence),\n",
        "        'area': w * h  # نحفظ مساحة المربع للمقارنة لاحقاً\n",
        "    }\n",
        "    detections.append(whole_image_detection)\n",
        "\n",
        "    # ثانياً - نستخدم نوافذ متحركة بأحجام متعددة للعثور على الكائنات\n",
        "    # استخدام أحجام نوافذ متنوعة تغطي نطاقات مختلفة\n",
        "    min_dimension = min(h, w)\n",
        "    window_sizes = [\n",
        "        (min_dimension, min_dimension),  # نافذة مربعة بحجم البُعد الأصغر للصورة\n",
        "        (int(min_dimension * 0.75), int(min_dimension * 0.75)),\n",
        "        (int(min_dimension * 0.5), int(min_dimension * 0.5))\n",
        "    ]\n",
        "\n",
        "    # أضف نوافذ مستطيلة إذا كانت الصورة ليست مربعة\n",
        "    if h != w:\n",
        "        window_sizes.append((int(w * 0.8), int(h * 0.8)))\n",
        "        window_sizes.append((int(w * 0.6), int(h * 0.6)))\n",
        "\n",
        "    # استخدام خطوات أصغر للحصول على تغطية أفضل\n",
        "    for window_size in window_sizes:\n",
        "        # تعديل حجم الخطوة بناءً على حجم النافذة\n",
        "        step_size = min(window_size) // 3\n",
        "\n",
        "        for y in range(0, h - window_size[1] + 1, step_size):\n",
        "            for x in range(0, w - window_size[0] + 1, step_size):\n",
        "                # اقتطاع جزء من الصورة\n",
        "                window = original_image[y:y + window_size[1], x:x + window_size[0]]\n",
        "\n",
        "                # تغيير حجم النافذة إلى الحجم المطلوب للنموذج\n",
        "                window_resized = cv2.resize(window, (img_width, img_height))\n",
        "\n",
        "                # تهيئة الصورة للتوقع\n",
        "                input_img = window_resized / 255.0\n",
        "                input_img = np.expand_dims(input_img, axis=0)\n",
        "\n",
        "                # التنبؤ بالفئة\n",
        "                pred = model.predict(input_img, verbose=0)\n",
        "                class_idx = np.argmax(pred[0])\n",
        "                confidence = pred[0][class_idx]\n",
        "\n",
        "                # إذا كانت الثقة أعلى من الحد المعين\n",
        "                if confidence > confidence_threshold:\n",
        "                    # تخزين معلومات الكشف\n",
        "                    detection = {\n",
        "                        'bbox': (x, y, x + window_size[0], y + window_size[1]),\n",
        "                        'class': class_names[class_idx],\n",
        "                        'confidence': float(confidence),\n",
        "                        'area': window_size[0] * window_size[1]  # حساب المساحة\n",
        "                    }\n",
        "                    detections.append(detection)\n",
        "\n",
        "    # تطبيق Non-Maximum Suppression مع الأخذ في الاعتبار المساحة\n",
        "    final_detections = non_max_suppression_area_weighted(detections, 0.5)\n",
        "\n",
        "    # إذا لم نجد أي كشوفات، نعود بالكشف على الصورة كاملة\n",
        "    if not final_detections and confidence > 0.3:\n",
        "        final_detections = [whole_image_detection]\n",
        "\n",
        "    # أعد ترتيب الكشوفات حسب المساحة والثقة (نريد الكائنات الكبيرة ذات الثقة العالية)\n",
        "    final_detections = sorted(final_detections, key=lambda x: (x['area'] * x['confidence']), reverse=True)\n",
        "\n",
        "    # أخذ أكبر كشف (الكائن الرئيسي في الصورة)\n",
        "    if final_detections:\n",
        "        final_detections = [final_detections[0]]\n",
        "\n",
        "    # إزالة مفتاح المساحة قبل إرجاع النتائج لأنه غير مطلوب في الواجهة\n",
        "    for detection in final_detections:\n",
        "        if 'area' in detection:\n",
        "            del detection['area']\n",
        "\n",
        "    return original_image, final_detections\n"
      ]
    },
    {
      "cell_type": "code",
      "execution_count": 6,
      "metadata": {
        "id": "-vRk1_ikINNr"
      },
      "outputs": [],
      "source": [
        "def non_max_suppression_area_weighted(detections, overlap_threshold):\n",
        "    if not detections:\n",
        "        return []\n",
        "\n",
        "    # فرز الكشوفات حسب المساحة * الثقة (تنازلياً)\n",
        "    detections = sorted(detections, key=lambda x: (x['area'] * x['confidence']), reverse=True)\n",
        "\n",
        "    # قائمة الكشوفات النهائية\n",
        "    final_detections = []\n",
        "\n",
        "    while detections:\n",
        "        # اختيار الكشف ذو القيمة الأعلى (مساحة * ثقة)\n",
        "        current_detection = detections.pop(0)\n",
        "        final_detections.append(current_detection)\n",
        "\n",
        "        # حذف الكشوفات المتداخلة\n",
        "        i = 0\n",
        "        while i < len(detections):\n",
        "            if calculate_iou(current_detection['bbox'], detections[i]['bbox']) > overlap_threshold:\n",
        "                detections.pop(i)\n",
        "            else:\n",
        "                i += 1\n",
        "\n",
        "    return final_detections\n"
      ]
    },
    {
      "cell_type": "code",
      "execution_count": 7,
      "metadata": {
        "id": "hX3pWnRWIob5"
      },
      "outputs": [],
      "source": [
        "def calculate_iou(bbox1, bbox2):\n",
        "    # bbox format: (x1, y1, x2, y2)\n",
        "    x1_1, y1_1, x2_1, y2_1 = bbox1\n",
        "    x1_2, y1_2, x2_2, y2_2 = bbox2\n",
        "\n",
        "    # حساب منطقة التقاطع\n",
        "    x_left = max(x1_1, x1_2)\n",
        "    y_top = max(y1_1, y1_2)\n",
        "    x_right = min(x2_1, x2_2)\n",
        "    y_bottom = min(y2_1, y2_2)\n",
        "\n",
        "    if x_right < x_left or y_bottom < y_top:\n",
        "        return 0.0\n",
        "\n",
        "    intersection_area = (x_right - x_left) * (y_bottom - y_top)\n",
        "\n",
        "    # حساب مساحة كل مربع\n",
        "    bbox1_area = (x2_1 - x1_1) * (y2_1 - y1_1)\n",
        "    bbox2_area = (x2_2 - x1_2) * (y2_2 - y1_2)\n",
        "\n",
        "    # حساب IoU\n",
        "    iou = intersection_area / float(bbox1_area + bbox2_area - intersection_area)\n",
        "\n",
        "    return iou"
      ]
    },
    {
      "cell_type": "code",
      "execution_count": 8,
      "metadata": {
        "id": "NZhMS6DjI2NJ"
      },
      "outputs": [],
      "source": [
        "def draw_detections(image, detections):\n",
        "    # تحويل الصورة إلى PIL لسهولة الرسم\n",
        "    pil_image = Image.fromarray(image)\n",
        "    draw = ImageDraw.Draw(pil_image)\n",
        "\n",
        "    # تحديد لون ثابت للحيوانات (أخضر)\n",
        "    animal_color = (0, 200, 0)  # أخضر فاتح للرؤية الواضحة\n",
        "\n",
        "    # محاولة تحميل الخط\n",
        "    try:\n",
        "        # استخدم خط أكبر للوضوح\n",
        "        font = ImageFont.truetype(\"arial.ttf\", 30)\n",
        "    except:\n",
        "        font = ImageFont.load_default()\n",
        "\n",
        "    # رسم المربعات والتسميات بسمك أكبر للرؤية الواضحة\n",
        "    for detection in detections:\n",
        "        bbox = detection['bbox']\n",
        "        class_name = detection['class']\n",
        "        confidence = detection['confidence']\n",
        "\n",
        "        # رسم المربع المحيط بسمك أكبر\n",
        "        draw.rectangle(bbox, outline=animal_color, width=5)\n",
        "\n",
        "        # تنسيق النص بلغة عربية إذا كان النموذج يستخدم أسماء عربية\n",
        "        # يمكن تعديل النص حسب اللغة المستخدمة\n",
        "        text = f\"{class_name}: {confidence:.2f}\"\n",
        "\n",
        "        # رسم خلفية للنص\n",
        "        text_bbox = draw.textbbox((bbox[0], bbox[1] - 35), text, font=font)\n",
        "        draw.rectangle(text_bbox, fill=animal_color)\n",
        "\n",
        "        # رسم النص بلون أبيض للتباين\n",
        "        draw.text((bbox[0], bbox[1] - 35), text, fill=(255, 255, 255), font=font)\n",
        "\n",
        "    return np.array(pil_image)\n"
      ]
    },
    {
      "cell_type": "code",
      "execution_count": 9,
      "metadata": {
        "id": "-TAH1Tn4BSWo",
        "colab": {
          "base_uri": "https://localhost:8080/",
          "height": 646
        },
        "outputId": "28219bb7-72ed-4d4a-9902-09da3f9a1341"
      },
      "outputs": [
        {
          "output_type": "stream",
          "name": "stdout",
          "text": [
            "It looks like you are running Gradio on a hosted a Jupyter notebook. For the Gradio app to work, sharing must be enabled. Automatically setting `share=True` (you can turn this off by setting `share=False` in `launch()` explicitly).\n",
            "\n",
            "Colab notebook detected. To show errors in colab notebook, set debug=True in launch()\n",
            "* Running on public URL: https://ac53313bc96df9faa4.gradio.live\n",
            "\n",
            "This share link expires in 1 week. For free permanent hosting and GPU upgrades, run `gradio deploy` from the terminal in the working directory to deploy to Hugging Face Spaces (https://huggingface.co/spaces)\n"
          ]
        },
        {
          "output_type": "display_data",
          "data": {
            "text/plain": [
              "<IPython.core.display.HTML object>"
            ],
            "text/html": [
              "<div><iframe src=\"https://ac53313bc96df9faa4.gradio.live\" width=\"100%\" height=\"500\" allow=\"autoplay; camera; microphone; clipboard-read; clipboard-write;\" frameborder=\"0\" allowfullscreen></iframe></div>"
            ]
          },
          "metadata": {}
        },
        {
          "output_type": "execute_result",
          "data": {
            "text/plain": []
          },
          "metadata": {},
          "execution_count": 9
        }
      ],
      "source": [
        "def detect_and_draw(input_image):\n",
        "    # حفظ الصورة مؤقتًا\n",
        "    temp_path = \"temp_input.jpg\"\n",
        "    cv2.imwrite(temp_path, cv2.cvtColor(input_image, cv2.COLOR_RGB2BGR))\n",
        "\n",
        "    # الكشف عن الكائنات مع التركيز على أكبر كائن\n",
        "    original_image, detections = detect_objects(temp_path)\n",
        "\n",
        "    # رسم النتائج\n",
        "    output_image = draw_detections(original_image, detections)\n",
        "\n",
        "    # حذف الملف المؤقت\n",
        "    if os.path.exists(temp_path):\n",
        "        os.remove(temp_path)\n",
        "\n",
        "    # إرجاع النتائج بشكل أكثر وضوحاً\n",
        "    result_text = \"\"\n",
        "    for i, detection in enumerate(detections):\n",
        "        arabic_class = detection['class']  # يفترض أن الأسماء بالعربية من النموذج\n",
        "        result_text += f\"الكائن الرئيسي: {arabic_class} (الثقة: {detection['confidence']:.2f})\\n\"\n",
        "        result_text += f\"موقع المربع: [{detection['bbox'][0]}, {detection['bbox'][1]}, {detection['bbox'][2]}, {detection['bbox'][3]}]\\n\"\n",
        "\n",
        "    if not detections:\n",
        "        result_text = \"لم يتم العثور على أي كائنات في الصورة.\"\n",
        "\n",
        "    return output_image, result_text\n",
        "\n",
        "# إنشاء واجهة Gradio\n",
        "iface = gr.Interface(\n",
        "    fn=detect_and_draw,\n",
        "    inputs=gr.Image(),\n",
        "    outputs=[\n",
        "        gr.Image(label=\"الصورة مع صناديق الكشف\"),\n",
        "        gr.Textbox(label=\"نتائج الكشف\")\n",
        "    ],\n",
        "    title=\"نظام محسّن للكشف عن الحيوانات\",\n",
        "    description=\"قم بتحميل صورة للكشف عن الحيوان الرئيسي في الصورة وتصنيفه\",\n",
        "    examples=[\n",
        "        # يمكنك إضافة بعض الأمثلة هنا\n",
        "    ]\n",
        ")\n",
        "\n",
        "# تشغيل واجهة Gradio\n",
        "iface.launch()"
      ]
    },
    {
      "cell_type": "code",
      "execution_count": 13,
      "metadata": {
        "id": "EHhMmfYSBg8H",
        "colab": {
          "base_uri": "https://localhost:8080/",
          "height": 680
        },
        "outputId": "29522fdc-e828-4f59-df5a-21697421b0fb"
      },
      "outputs": [
        {
          "output_type": "stream",
          "name": "stdout",
          "text": [
            "Initializing animal detection system...\n",
            "Could not find model files. Using a placeholder detection function.\n",
            "It looks like you are running Gradio on a hosted a Jupyter notebook. For the Gradio app to work, sharing must be enabled. Automatically setting `share=True` (you can turn this off by setting `share=False` in `launch()` explicitly).\n",
            "\n",
            "Colab notebook detected. To show errors in colab notebook, set debug=True in launch()\n",
            "* Running on public URL: https://e7425598e421bfa3ae.gradio.live\n",
            "\n",
            "This share link expires in 1 week. For free permanent hosting and GPU upgrades, run `gradio deploy` from the terminal in the working directory to deploy to Hugging Face Spaces (https://huggingface.co/spaces)\n"
          ]
        },
        {
          "output_type": "display_data",
          "data": {
            "text/plain": [
              "<IPython.core.display.HTML object>"
            ],
            "text/html": [
              "<div><iframe src=\"https://e7425598e421bfa3ae.gradio.live\" width=\"100%\" height=\"500\" allow=\"autoplay; camera; microphone; clipboard-read; clipboard-write;\" frameborder=\"0\" allowfullscreen></iframe></div>"
            ]
          },
          "metadata": {}
        },
        {
          "output_type": "execute_result",
          "data": {
            "text/plain": []
          },
          "metadata": {},
          "execution_count": 13
        }
      ],
      "source": [
        "#multi\n",
        "# Load model - adjust paths based on your actual model structure\n",
        "def load_model():\n",
        "    # This function should be customized based on your specific model\n",
        "    # Common options include TensorFlow, PyTorch, YOLO, etc.\n",
        "\n",
        "    # Example for YOLO model:\n",
        "    try:\n",
        "        # Try different potential paths where the model might be extracted\n",
        "        potential_paths = [\n",
        "            \"/content/animal_detection_model.h5\"\n",
        "        ]\n",
        "\n",
        "        model = None\n",
        "        for base_path in potential_paths:\n",
        "            # For YOLO-based models\n",
        "            if os.path.exists(f\"{base_path}/yolov5s.pt\"):\n",
        "                import torch\n",
        "                model = torch.hub.load('ultralytics/yolov5', 'custom', path=f\"{base_path}/yolov5s.pt\")\n",
        "                print(f\"Loaded YOLO model from {base_path}/yolov5s.pt\")\n",
        "                break\n",
        "\n",
        "            # For TensorFlow/Keras models\n",
        "            elif os.path.exists(f\"{base_path}/model.h5\"):\n",
        "                from tensorflow import keras\n",
        "                model = keras.models.load_model(f\"{base_path}/model.h5\")\n",
        "                print(f\"Loaded TensorFlow model from {base_path}/model.h5\")\n",
        "                break\n",
        "\n",
        "            # For saved_model format\n",
        "            elif os.path.exists(f\"{base_path}/saved_model\"):\n",
        "                import tensorflow as tf\n",
        "                model = tf.saved_model.load(f\"{base_path}/saved_model\")\n",
        "                print(f\"Loaded TF SavedModel from {base_path}/saved_model\")\n",
        "                break\n",
        "\n",
        "        if model is None:\n",
        "            print(\"Could not find model files. Using a placeholder detection function.\")\n",
        "\n",
        "        return model\n",
        "\n",
        "    except Exception as e:\n",
        "        print(f\"Error loading model: {e}\")\n",
        "        print(\"Using placeholder detection function instead.\")\n",
        "        return None\n",
        "\n",
        "# Process detections with the model\n",
        "def detect_objects(image_path, model=None):\n",
        "    \"\"\"\n",
        "    Detect animals in the image and return their bounding boxes\n",
        "\n",
        "    Supported animal classes:\n",
        "    - dog\n",
        "    - horse\n",
        "    - elephant\n",
        "    - butterfly\n",
        "    - chicken\n",
        "    - cat\n",
        "    - cow\n",
        "    - sheep\n",
        "    - squirrel\n",
        "    - spider\n",
        "    \"\"\"\n",
        "    # Read the image\n",
        "    if isinstance(image_path, str):\n",
        "        # If a path is provided\n",
        "        image = cv2.imread(image_path)\n",
        "        image = cv2.cvtColor(image, cv2.COLOR_BGR2RGB)\n",
        "    else:\n",
        "        # If an image array is provided directly\n",
        "        image = image_path\n",
        "\n",
        "    # If we have a proper model loaded, use it\n",
        "    if model is not None:\n",
        "        # This code should be adapted to your specific model\n",
        "        try:\n",
        "            # Example for YOLO models\n",
        "            if hasattr(model, 'predict'):\n",
        "                results = model(image)\n",
        "                detections = []\n",
        "\n",
        "                # Process YOLO results\n",
        "                for *box, conf, cls in results.xyxy[0].cpu().numpy():\n",
        "                    x1, y1, x2, y2 = map(int, box)\n",
        "                    confidence = float(conf)\n",
        "                    class_id = int(cls)\n",
        "                    class_name = results.names[class_id]\n",
        "\n",
        "                    # Filter for only the specific animal classes you want\n",
        "                    # Using only English class names\n",
        "                    if class_name.lower() in ['dog', 'horse', 'elephant', 'butterfly',\n",
        "                                      'chicken', 'cat', 'cow', 'sheep', 'squirrel', 'spider']:\n",
        "                        area = (x2 - x1) * (y2 - y1)\n",
        "                        detections.append({\n",
        "                            'bbox': (x1, y1, x2, y2),\n",
        "                            'class': class_name,\n",
        "                            'confidence': confidence,\n",
        "                            'area': area\n",
        "                        })\n",
        "\n",
        "                return image, detections\n",
        "\n",
        "            # Example for TensorFlow models\n",
        "            else:\n",
        "                # Placeholder for other model types\n",
        "                # Implement based on your specific model\n",
        "                pass\n",
        "\n",
        "        except Exception as e:\n",
        "            print(f\"Error during detection: {e}\")\n",
        "            # Fall back to placeholder method below\n",
        "\n",
        "    # Placeholder detection function (if model loading fails)\n",
        "    # This is just a demo - replace with actual model inference\n",
        "    # In a real system, this would be replaced with your actual model's detection logic\n",
        "    h, w = image.shape[:2]\n",
        "\n",
        "    # Placeholder: Create some demo detections\n",
        "    detections = []\n",
        "\n",
        "    # Using OpenCV's built-in Haar Cascade for general object detection\n",
        "    # This is not specifically for animals but can serve as a placeholder\n",
        "    try:\n",
        "        gray = cv2.cvtColor(image, cv2.COLOR_RGB2GRAY)\n",
        "        # Try to use a face detector as a placeholder\n",
        "        face_cascade = cv2.CascadeClassifier(cv2.data.haarcascades + 'haarcascade_frontalface_default.xml')\n",
        "        faces = face_cascade.detectMultiScale(gray, 1.1, 4)\n",
        "\n",
        "        for (x, y, w, h) in faces:\n",
        "            detections.append({\n",
        "                'bbox': (int(x), int(y), int(x+w), int(y+h)),\n",
        "                'class': 'face',\n",
        "                'confidence': 0.85,  # Placeholder confidence\n",
        "                'area': w * h\n",
        "            })\n",
        "    except Exception as e:\n",
        "        print(f\"Error in placeholder detection: {e}\")\n",
        "\n",
        "    # Using a more sophisticated placeholder that tries to detect animal-like objects\n",
        "    if not detections:\n",
        "        # Try to use object detection methods from OpenCV as fallback\n",
        "        # This is just for demonstration when the model fails to load\n",
        "        try:\n",
        "            # First try simple edge detection to find potential objects\n",
        "            edged = cv2.Canny(gray, 30, 200)\n",
        "            contours, _ = cv2.findContours(edged, cv2.RETR_EXTERNAL, cv2.CHAIN_APPROX_SIMPLE)\n",
        "\n",
        "            # Filter for contours of reasonable size\n",
        "            for contour in contours:\n",
        "                if cv2.contourArea(contour) > 1000:  # Minimum area threshold\n",
        "                    x, y, w, h = cv2.boundingRect(contour)\n",
        "                    # Only add if the aspect ratio is reasonable for an animal\n",
        "                    if 0.5 <= w/h <= 2.0:\n",
        "                        # Randomly assign an animal class for demonstration\n",
        "                        animal_classes = ['dog', 'cat', 'horse', 'cow', 'sheep', 'elephant', 'butterfly', 'chicken', 'squirrel', 'spider']\n",
        "                        class_name = animal_classes[hash(str(x+y)) % len(animal_classes)]\n",
        "\n",
        "                        detections.append({\n",
        "                            'bbox': (int(x), int(y), int(x+w), int(y+h)),\n",
        "                            'class': class_name,\n",
        "                            'confidence': 0.6 + (hash(str(x*y)) % 30) / 100,  # Random confidence between 0.6-0.9\n",
        "                            'area': w * h\n",
        "                        })\n",
        "        except Exception as e:\n",
        "            print(f\"Error in contour detection: {e}\")\n",
        "\n",
        "        # If still no detections, create one dummy detection\n",
        "        if not detections:\n",
        "            x1, y1 = int(w * 0.25), int(h * 0.25)\n",
        "            x2, y2 = int(w * 0.75), int(h * 0.75)\n",
        "            detections.append({\n",
        "                'bbox': (x1, y1, x2, y2),\n",
        "                'class': 'cat',  # Default to a specific animal class\n",
        "                'confidence': 0.60,  # Lower confidence to indicate this is a placeholder\n",
        "                'area': (x2 - x1) * (y2 - y1)\n",
        "            })\n",
        "\n",
        "    return image, detections\n",
        "\n",
        "def calculate_iou(bbox1, bbox2):\n",
        "    # bbox format: (x1, y1, x2, y2)\n",
        "    x1_1, y1_1, x2_1, y2_1 = bbox1\n",
        "    x1_2, y1_2, x2_2, y2_2 = bbox2\n",
        "\n",
        "    # Calculate intersection area\n",
        "    x_left = max(x1_1, x1_2)\n",
        "    y_top = max(y1_1, y1_2)\n",
        "    x_right = min(x2_1, x2_2)\n",
        "    y_bottom = min(y2_1, y2_2)\n",
        "\n",
        "    if x_right < x_left or y_bottom < y_top:\n",
        "        return 0.0\n",
        "\n",
        "    intersection_area = (x_right - x_left) * (y_bottom - y_top)\n",
        "\n",
        "    # Calculate area of each bounding box\n",
        "    bbox1_area = (x2_1 - x1_1) * (y2_1 - y1_1)\n",
        "    bbox2_area = (x2_2 - x1_2) * (y2_2 - y1_2)\n",
        "\n",
        "    # Calculate IoU\n",
        "    iou = intersection_area / float(bbox1_area + bbox2_area - intersection_area)\n",
        "\n",
        "    return iou\n",
        "\n",
        "def non_max_suppression_area_weighted(detections, overlap_threshold):\n",
        "    if not detections:\n",
        "        return []\n",
        "\n",
        "    # Sort detections by area * confidence (descending)\n",
        "    detections = sorted(detections, key=lambda x: (x['area'] * x['confidence']), reverse=True)\n",
        "\n",
        "    # Final detections list\n",
        "    final_detections = []\n",
        "\n",
        "    while detections:\n",
        "        # Select detection with highest value (area * confidence)\n",
        "        current_detection = detections.pop(0)\n",
        "        final_detections.append(current_detection)\n",
        "\n",
        "        # Remove overlapping detections\n",
        "        i = 0\n",
        "        while i < len(detections):\n",
        "            if calculate_iou(current_detection['bbox'], detections[i]['bbox']) > overlap_threshold:\n",
        "                detections.pop(i)\n",
        "            else:\n",
        "                i += 1\n",
        "\n",
        "    return final_detections\n",
        "\n",
        "def draw_detections(image, detections):\n",
        "    # Convert image to PIL for easier drawing\n",
        "    pil_image = Image.fromarray(image)\n",
        "    draw = ImageDraw.Draw(pil_image)\n",
        "\n",
        "    # Define colors for different animal classes\n",
        "    animal_colors = {\n",
        "        'dog': (0, 200, 0),      # Green\n",
        "        'horse': (200, 100, 0),  # Brown\n",
        "        'elephant': (128, 128, 128),  # Gray\n",
        "        'butterfly': (255, 100, 200),  # Pink\n",
        "        'chicken': (255, 255, 0),  # Yellow\n",
        "        'cat': (255, 100, 0),    # Orange\n",
        "        'cow': (0, 0, 200),      # Blue\n",
        "        'sheep': (255, 255, 255),  # White\n",
        "        'squirrel': (139, 69, 19),  # Brown\n",
        "        'spider': (128, 0, 128),  # Purple\n",
        "        'default': (0, 200, 0)   # Green (fallback)\n",
        "    }\n",
        "\n",
        "    # Try to load font\n",
        "    try:\n",
        "        # Use larger font for clarity\n",
        "        font = ImageFont.truetype(\"arial.ttf\", 30)\n",
        "    except:\n",
        "        font = ImageFont.load_default()\n",
        "\n",
        "    # Draw bounding boxes and labels with increased thickness for visibility\n",
        "    for detection in detections:\n",
        "        bbox = detection['bbox']\n",
        "        class_name = detection['class']\n",
        "        confidence = detection['confidence']\n",
        "\n",
        "        # Get color for this animal class\n",
        "        color = animal_colors.get(class_name.lower(), animal_colors['default'])\n",
        "\n",
        "        # Draw bounding box with increased thickness\n",
        "        draw.rectangle(bbox, outline=color, width=5)\n",
        "\n",
        "        # Format text with English class name\n",
        "        text = f\"{class_name}: {confidence:.2f}\"\n",
        "\n",
        "        # Draw background for text\n",
        "        text_bbox = draw.textbbox((bbox[0], bbox[1] - 35), text, font=font)\n",
        "        draw.rectangle(text_bbox, fill=color)\n",
        "\n",
        "        # Draw text in white or black for contrast\n",
        "        # Choose text color based on background brightness for better readability\n",
        "        brightness = (color[0] * 299 + color[1] * 587 + color[2] * 114) / 1000\n",
        "        text_color = (0, 0, 0) if brightness > 128 else (255, 255, 255)  # Black for bright bg, white for dark bg\n",
        "        draw.text((bbox[0], bbox[1] - 35), text, fill=text_color, font=font)\n",
        "\n",
        "    return np.array(pil_image)\n",
        "\n",
        "def detect_and_draw(input_image):\n",
        "    \"\"\"Main function to detect animals and draw bounding boxes\"\"\"\n",
        "    global model\n",
        "\n",
        "    # Process the image directly\n",
        "    original_image = input_image\n",
        "\n",
        "    # Detect objects\n",
        "    _, detections = detect_objects(original_image, model)\n",
        "\n",
        "    # Apply non-max suppression to remove overlapping boxes\n",
        "    detections = non_max_suppression_area_weighted(detections, 0.5)\n",
        "\n",
        "    # Draw results\n",
        "    output_image = draw_detections(original_image, detections)\n",
        "\n",
        "    # Prepare result text\n",
        "    result_text = \"\"\n",
        "    for i, detection in enumerate(detections):\n",
        "        class_name = detection['class']\n",
        "        result_text += f\"Animal {i+1}: {class_name} (Confidence: {detection['confidence']:.2f})\\n\"\n",
        "        result_text += f\"Box location: [{detection['bbox'][0]}, {detection['bbox'][1]}, {detection['bbox'][2]}, {detection['bbox'][3]}]\\n\\n\"\n",
        "\n",
        "    if not detections:\n",
        "        result_text = \"No animals detected in the image.\"\n",
        "\n",
        "    return output_image, result_text\n",
        "\n",
        "# Main execution code\n",
        "print(\"Initializing animal detection system...\")\n",
        "\n",
        "\n",
        "# Then load the model\n",
        "model = load_model()\n",
        "\n",
        "# Create Gradio interface\n",
        "iface = gr.Interface(\n",
        "    fn=detect_and_draw,\n",
        "    inputs=gr.Image(),\n",
        "    outputs=[\n",
        "        gr.Image(label=\"Image with Detection Boxes\"),\n",
        "        gr.Textbox(label=\"Detection Results\")\n",
        "    ],\n",
        "    title=\"Multi-Animal Detection System\",\n",
        "    description=\"Upload an image to detect different animals (dog, horse, elephant, butterfly, chicken, cat, cow, sheep, squirrel, spider) and draw bounding boxes around them\",\n",
        "    examples=[\n",
        "        # You can add example images here\n",
        "    ]\n",
        ")\n",
        "\n",
        "# Launch Gradio interface\n",
        "iface.launch()"
      ]
    }
  ],
  "metadata": {
    "accelerator": "GPU",
    "colab": {
      "gpuType": "T4",
      "machine_shape": "hm",
      "provenance": []
    },
    "kernelspec": {
      "display_name": "Python 3",
      "name": "python3"
    },
    "language_info": {
      "name": "python"
    }
  },
  "nbformat": 4,
  "nbformat_minor": 0
}